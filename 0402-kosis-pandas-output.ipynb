{
 "cells": [
  {
   "cell_type": "markdown",
   "id": "c93e301e",
   "metadata": {
    "id": "8e39d0ac"
   },
   "source": [
    "KOSIS에서는 국내, 국제, 북한등의 주요 통계를 한 곳에 모아 이용자가 원하는 통계를 한번에 찾을 수 있도록 통계청이 제공하는 서비스입니다.  \n",
    "경제, 사회, 환경 등 30개분야의 데이터를 제공해줍니다.\n",
    "* https://kosis.kr/index/index.do\n",
    "\n",
    "사용하는 데이터는 KOSIS에서 제공해주는 연령, 성별 암검진 대상 및 수검현황에 관한 데이터 입니다.  \n",
    "데이터에는 연령과 성별별로 검진시 발병되는 암에 관한 데이터가 정리되어 있습니다.\n",
    "\n",
    "아래의 URL에서 건강검진 통계 -> 암검진 -> 연령별 성별 암검진 대상 및 수검인원 현황에 들어가면 데이터를 받을 수 있습니다.\n",
    "* https://kosis.kr/statHtml/statHtml.do?orgId=350&tblId=DT_35007_N010&conn_path=I2"
   ]
  },
  {
   "cell_type": "markdown",
   "id": "6d90ad72",
   "metadata": {
    "id": "45a211ab"
   },
   "source": [
    "## pandas"
   ]
  },
  {
   "cell_type": "code",
   "execution_count": 54,
   "id": "3b6ac7b5",
   "metadata": {
    "id": "f19e2bd6"
   },
   "outputs": [],
   "source": [
    "# pandas 를 불러옵니다.\n",
    "import pandas as pd\n",
    "import numpy as np"
   ]
  },
  {
   "cell_type": "markdown",
   "id": "6a5b9e70",
   "metadata": {
    "id": "e20b6fa0"
   },
   "source": [
    "## pandas로 파일 불러오고 확인해보기\n",
    "\n",
    "<img src = 'https://pandas.pydata.org/docs/_images/02_io_readwrite.svg'>"
   ]
  },
  {
   "cell_type": "code",
   "execution_count": 55,
   "id": "e9349fc9",
   "metadata": {
    "id": "fa065ada",
    "outputId": "372d3657-90ff-4e97-cf4e-dc183de84849"
   },
   "outputs": [],
   "source": [
    "# pandas에서는 read_csv파일로 csv파일을 불러올 수 있습니다.\n",
    "# csv파일은 ,(쉼표)로 구분하여 저장한 데이터파일입니다.\n",
    "# read_csv()로 csv파일을 불러올 때 한글 인코딩 문제로 에러가 발생될 수 있습니다.\n",
    "# 에러가 발생할때는 encoding 속성값을 'euc-kr', 'cp949', 'ms949'로 변경해서 실행합니다.\n",
    "# DataFrame을 변수에 지정할때는 보통 약자인 df나 가공전에는 row를 사용합니다.\n",
    "# kosis-cancer-raw.csv\n",
    "df = pd.read_csv(\"data/kosis-cancer-raw.csv\", encoding=\"cp949\")"
   ]
  },
  {
   "cell_type": "code",
   "execution_count": 56,
   "id": "2f035c91",
   "metadata": {
    "id": "92f6e6b4",
    "outputId": "10b02bd6-c663-4f0e-911f-98f4727962d5"
   },
   "outputs": [
    {
     "data": {
      "text/plain": [
       "(2428, 6)"
      ]
     },
     "execution_count": 56,
     "metadata": {},
     "output_type": "execute_result"
    }
   ],
   "source": [
    "# shape속성을 통해 DataFrame의 행과 열에 대한 정보를 확인할 수 있습니다.\n",
    "\n",
    "df.shape"
   ]
  },
  {
   "cell_type": "code",
   "execution_count": 57,
   "id": "e6586398",
   "metadata": {},
   "outputs": [
    {
     "data": {
      "text/html": [
       "<div>\n",
       "<style scoped>\n",
       "    .dataframe tbody tr th:only-of-type {\n",
       "        vertical-align: middle;\n",
       "    }\n",
       "\n",
       "    .dataframe tbody tr th {\n",
       "        vertical-align: top;\n",
       "    }\n",
       "\n",
       "    .dataframe thead th {\n",
       "        text-align: right;\n",
       "    }\n",
       "</style>\n",
       "<table border=\"1\" class=\"dataframe\">\n",
       "  <thead>\n",
       "    <tr style=\"text-align: right;\">\n",
       "      <th></th>\n",
       "      <th>연령별(1)</th>\n",
       "      <th>시점</th>\n",
       "      <th>암검진별(1)</th>\n",
       "      <th>성별(1)</th>\n",
       "      <th>대상인원 (명)</th>\n",
       "      <th>수검인원 (명)</th>\n",
       "    </tr>\n",
       "  </thead>\n",
       "  <tbody>\n",
       "    <tr>\n",
       "      <th>0</th>\n",
       "      <td>계</td>\n",
       "      <td>2010</td>\n",
       "      <td>계</td>\n",
       "      <td>합계</td>\n",
       "      <td>12945756</td>\n",
       "      <td>6184804</td>\n",
       "    </tr>\n",
       "    <tr>\n",
       "      <th>1</th>\n",
       "      <td>계</td>\n",
       "      <td>2010</td>\n",
       "      <td>계</td>\n",
       "      <td>남자</td>\n",
       "      <td>6071884</td>\n",
       "      <td>2522586</td>\n",
       "    </tr>\n",
       "    <tr>\n",
       "      <th>2</th>\n",
       "      <td>계</td>\n",
       "      <td>2010</td>\n",
       "      <td>계</td>\n",
       "      <td>여자</td>\n",
       "      <td>6873872</td>\n",
       "      <td>3662218</td>\n",
       "    </tr>\n",
       "    <tr>\n",
       "      <th>3</th>\n",
       "      <td>계</td>\n",
       "      <td>2010</td>\n",
       "      <td>위암</td>\n",
       "      <td>합계</td>\n",
       "      <td>10997959</td>\n",
       "      <td>4915858</td>\n",
       "    </tr>\n",
       "    <tr>\n",
       "      <th>4</th>\n",
       "      <td>계</td>\n",
       "      <td>2010</td>\n",
       "      <td>위암</td>\n",
       "      <td>남자</td>\n",
       "      <td>5553666</td>\n",
       "      <td>2202416</td>\n",
       "    </tr>\n",
       "  </tbody>\n",
       "</table>\n",
       "</div>"
      ],
      "text/plain": [
       "  연령별(1)    시점 암검진별(1) 성별(1)  대상인원 (명) 수검인원 (명)\n",
       "0      계  2010       계    합계  12945756  6184804\n",
       "1      계  2010       계    남자   6071884  2522586\n",
       "2      계  2010       계    여자   6873872  3662218\n",
       "3      계  2010      위암    합계  10997959  4915858\n",
       "4      계  2010      위암    남자   5553666  2202416"
      ]
     },
     "execution_count": 57,
     "metadata": {},
     "output_type": "execute_result"
    }
   ],
   "source": [
    "df.head()"
   ]
  },
  {
   "cell_type": "markdown",
   "id": "d543b241",
   "metadata": {
    "id": "307777a1"
   },
   "source": [
    "## DataFrame의 columns의 이름 바꿔주기"
   ]
  },
  {
   "cell_type": "code",
   "execution_count": 58,
   "id": "1d29126f",
   "metadata": {
    "id": "3f95732c",
    "outputId": "572d0b57-61a9-4823-a4fa-8157245f9131",
    "scrolled": false
   },
   "outputs": [
    {
     "data": {
      "text/html": [
       "<div>\n",
       "<style scoped>\n",
       "    .dataframe tbody tr th:only-of-type {\n",
       "        vertical-align: middle;\n",
       "    }\n",
       "\n",
       "    .dataframe tbody tr th {\n",
       "        vertical-align: top;\n",
       "    }\n",
       "\n",
       "    .dataframe thead th {\n",
       "        text-align: right;\n",
       "    }\n",
       "</style>\n",
       "<table border=\"1\" class=\"dataframe\">\n",
       "  <thead>\n",
       "    <tr style=\"text-align: right;\">\n",
       "      <th></th>\n",
       "      <th>연령별</th>\n",
       "      <th>시점</th>\n",
       "      <th>암검진별</th>\n",
       "      <th>성별</th>\n",
       "      <th>대상인원 (명)</th>\n",
       "      <th>수검인원 (명)</th>\n",
       "    </tr>\n",
       "  </thead>\n",
       "  <tbody>\n",
       "    <tr>\n",
       "      <th>0</th>\n",
       "      <td>계</td>\n",
       "      <td>2010</td>\n",
       "      <td>계</td>\n",
       "      <td>합계</td>\n",
       "      <td>12945756</td>\n",
       "      <td>6184804</td>\n",
       "    </tr>\n",
       "    <tr>\n",
       "      <th>1</th>\n",
       "      <td>계</td>\n",
       "      <td>2010</td>\n",
       "      <td>계</td>\n",
       "      <td>남자</td>\n",
       "      <td>6071884</td>\n",
       "      <td>2522586</td>\n",
       "    </tr>\n",
       "  </tbody>\n",
       "</table>\n",
       "</div>"
      ],
      "text/plain": [
       "  연령별    시점 암검진별  성별  대상인원 (명) 수검인원 (명)\n",
       "0   계  2010    계  합계  12945756  6184804\n",
       "1   계  2010    계  남자   6071884  2522586"
      ]
     },
     "execution_count": 58,
     "metadata": {},
     "output_type": "execute_result"
    }
   ],
   "source": [
    "# rename(index={}, columns={}, inplace=)함수를 통해 DataFrame의 행과 열의 이름을 바꿔줄 수 있다.\n",
    "# df.rename(columns={'연령별(1)' : '연령별', '암검진별(1)' : '암검진별', '성별(1)' : '성별'}, inplace=True)\n",
    "df = df.rename(columns = {'연령별(1)' : '연령별', '암검진별(1)' : '암검진별', '성별(1)' : '성별'})\n",
    "df.head(2)"
   ]
  },
  {
   "cell_type": "code",
   "execution_count": 59,
   "id": "48c85691",
   "metadata": {},
   "outputs": [
    {
     "name": "stdout",
     "output_type": "stream",
     "text": [
      "<class 'pandas.core.frame.DataFrame'>\n",
      "RangeIndex: 2428 entries, 0 to 2427\n",
      "Data columns (total 6 columns):\n",
      " #   Column    Non-Null Count  Dtype \n",
      "---  ------    --------------  ----- \n",
      " 0   연령별       2428 non-null   object\n",
      " 1   시점        2428 non-null   int64 \n",
      " 2   암검진별      2428 non-null   object\n",
      " 3   성별        2428 non-null   object\n",
      " 4   대상인원 (명)  2428 non-null   object\n",
      " 5   수검인원 (명)  2428 non-null   object\n",
      "dtypes: int64(1), object(5)\n",
      "memory usage: 113.9+ KB\n"
     ]
    }
   ],
   "source": [
    "df.info()"
   ]
  },
  {
   "cell_type": "markdown",
   "id": "444c65e1",
   "metadata": {
    "id": "bda470ca"
   },
   "source": [
    "## DataFrame의 내용 바꾸기"
   ]
  },
  {
   "cell_type": "code",
   "execution_count": 60,
   "id": "224e0eaa",
   "metadata": {
    "id": "588a5916",
    "outputId": "741e8ed4-771f-4794-9a60-0a15f48cbd12"
   },
   "outputs": [
    {
     "data": {
      "text/html": [
       "<div>\n",
       "<style scoped>\n",
       "    .dataframe tbody tr th:only-of-type {\n",
       "        vertical-align: middle;\n",
       "    }\n",
       "\n",
       "    .dataframe tbody tr th {\n",
       "        vertical-align: top;\n",
       "    }\n",
       "\n",
       "    .dataframe thead th {\n",
       "        text-align: right;\n",
       "    }\n",
       "</style>\n",
       "<table border=\"1\" class=\"dataframe\">\n",
       "  <thead>\n",
       "    <tr style=\"text-align: right;\">\n",
       "      <th></th>\n",
       "      <th>연령별</th>\n",
       "      <th>시점</th>\n",
       "      <th>암검진별</th>\n",
       "      <th>성별</th>\n",
       "      <th>대상인원 (명)</th>\n",
       "      <th>수검인원 (명)</th>\n",
       "      <th>대상인원</th>\n",
       "      <th>수검인원</th>\n",
       "    </tr>\n",
       "  </thead>\n",
       "  <tbody>\n",
       "    <tr>\n",
       "      <th>0</th>\n",
       "      <td>계</td>\n",
       "      <td>2010</td>\n",
       "      <td>계</td>\n",
       "      <td>합계</td>\n",
       "      <td>12945756</td>\n",
       "      <td>6184804</td>\n",
       "      <td>12945756</td>\n",
       "      <td>6184804</td>\n",
       "    </tr>\n",
       "    <tr>\n",
       "      <th>1</th>\n",
       "      <td>계</td>\n",
       "      <td>2010</td>\n",
       "      <td>계</td>\n",
       "      <td>남자</td>\n",
       "      <td>6071884</td>\n",
       "      <td>2522586</td>\n",
       "      <td>6071884</td>\n",
       "      <td>2522586</td>\n",
       "    </tr>\n",
       "  </tbody>\n",
       "</table>\n",
       "</div>"
      ],
      "text/plain": [
       "  연령별    시점 암검진별  성별  대상인원 (명) 수검인원 (명)      대상인원     수검인원\n",
       "0   계  2010    계  합계  12945756  6184804  12945756  6184804\n",
       "1   계  2010    계  남자   6071884  2522586   6071884  2522586"
      ]
     },
     "execution_count": 60,
     "metadata": {},
     "output_type": "execute_result"
    }
   ],
   "source": [
    "# replace함수로 DataFrame안에 있는 내용을 바꿔줄 수 있습니다.\n",
    "# 데이터 안의 '-'(하이픈)을 0으로 바꿔줍니다.\n",
    "# 이후 '데이터' column의 dtype을 int로 바꾸기 위해 내용을 바꿔줘야 합니다.\n",
    "# pd.to_numeric(df[\"대상인원 (명)\"], errors=\"coerce\")\n",
    "df[\"대상인원\"] = df[\"대상인원 (명)\"].replace(\"-\", 0).astype(int)\n",
    "df[\"수검인원\"] = df[\"수검인원 (명)\"].replace(\"-\", 0).astype(int)\n",
    "df.head(2)"
   ]
  },
  {
   "cell_type": "markdown",
   "id": "1f80a7a2",
   "metadata": {},
   "source": [
    "## 사용하지 않는 데이터 제거"
   ]
  },
  {
   "cell_type": "code",
   "execution_count": 61,
   "id": "3a4cd8a2",
   "metadata": {
    "id": "9fa7389d",
    "outputId": "21ae07b1-bce5-4c30-8ea3-04a76d72e1f0"
   },
   "outputs": [
    {
     "data": {
      "text/plain": [
       "(1238, 8)"
      ]
     },
     "execution_count": 61,
     "metadata": {},
     "output_type": "execute_result"
    }
   ],
   "source": [
    "# drop함수를 통해 DataFrame안에 있는 행을 제거해줄 수 있습니다.\n",
    "# 데이터안의 '연령별' column안에 있는 '계'는 사용하지 않을 예정이기 때문에 제거합니다.\n",
    "# 데이터안의 '암검진별' column안에 있는 '계'는 사용하지 않을 예정이기 때문에 제거합니다.\n",
    "# 데이터안의 '성별' column안에 있는 '합계'는 사용하지 않을 예정이기 때문에 제거합니다.\n",
    "# 이후 index를  다시 재지정해 준 뒤 기존의 index column을 제거합니다.\n",
    "# df\n",
    "\n",
    "df = df[df[\"연령별\"] != \"계\"]\n",
    "df = df[df[\"암검진별\"] != \"계\"]\n",
    "df = df[df[\"성별\"] != \"합계\"].copy()\n",
    "df.shape"
   ]
  },
  {
   "cell_type": "markdown",
   "id": "6c0e5cab",
   "metadata": {
    "id": "ab4c2f4d"
   },
   "source": [
    "## 일부 데이터 확인하기"
   ]
  },
  {
   "cell_type": "code",
   "execution_count": 62,
   "id": "514b322d",
   "metadata": {
    "id": "fbcae81e",
    "outputId": "60bc5588-cc30-41f5-9e9f-78e0167ecc07"
   },
   "outputs": [
    {
     "data": {
      "text/html": [
       "<div>\n",
       "<style scoped>\n",
       "    .dataframe tbody tr th:only-of-type {\n",
       "        vertical-align: middle;\n",
       "    }\n",
       "\n",
       "    .dataframe tbody tr th {\n",
       "        vertical-align: top;\n",
       "    }\n",
       "\n",
       "    .dataframe thead th {\n",
       "        text-align: right;\n",
       "    }\n",
       "</style>\n",
       "<table border=\"1\" class=\"dataframe\">\n",
       "  <thead>\n",
       "    <tr style=\"text-align: right;\">\n",
       "      <th></th>\n",
       "      <th>연령별</th>\n",
       "      <th>시점</th>\n",
       "      <th>암검진별</th>\n",
       "      <th>성별</th>\n",
       "      <th>대상인원 (명)</th>\n",
       "      <th>수검인원 (명)</th>\n",
       "      <th>대상인원</th>\n",
       "      <th>수검인원</th>\n",
       "    </tr>\n",
       "  </thead>\n",
       "  <tbody>\n",
       "    <tr>\n",
       "      <th>182</th>\n",
       "      <td>20 ~ 24세</td>\n",
       "      <td>2016</td>\n",
       "      <td>위암</td>\n",
       "      <td>남자</td>\n",
       "      <td>-</td>\n",
       "      <td>-</td>\n",
       "      <td>0</td>\n",
       "      <td>0</td>\n",
       "    </tr>\n",
       "    <tr>\n",
       "      <th>183</th>\n",
       "      <td>20 ~ 24세</td>\n",
       "      <td>2016</td>\n",
       "      <td>위암</td>\n",
       "      <td>여자</td>\n",
       "      <td>-</td>\n",
       "      <td>-</td>\n",
       "      <td>0</td>\n",
       "      <td>0</td>\n",
       "    </tr>\n",
       "    <tr>\n",
       "      <th>185</th>\n",
       "      <td>20 ~ 24세</td>\n",
       "      <td>2016</td>\n",
       "      <td>대장암</td>\n",
       "      <td>남자</td>\n",
       "      <td>-</td>\n",
       "      <td>-</td>\n",
       "      <td>0</td>\n",
       "      <td>0</td>\n",
       "    </tr>\n",
       "    <tr>\n",
       "      <th>186</th>\n",
       "      <td>20 ~ 24세</td>\n",
       "      <td>2016</td>\n",
       "      <td>대장암</td>\n",
       "      <td>여자</td>\n",
       "      <td>-</td>\n",
       "      <td>-</td>\n",
       "      <td>0</td>\n",
       "      <td>0</td>\n",
       "    </tr>\n",
       "    <tr>\n",
       "      <th>188</th>\n",
       "      <td>20 ~ 24세</td>\n",
       "      <td>2016</td>\n",
       "      <td>간암</td>\n",
       "      <td>남자</td>\n",
       "      <td>-</td>\n",
       "      <td>-</td>\n",
       "      <td>0</td>\n",
       "      <td>0</td>\n",
       "    </tr>\n",
       "  </tbody>\n",
       "</table>\n",
       "</div>"
      ],
      "text/plain": [
       "          연령별    시점 암검진별  성별 대상인원 (명) 수검인원 (명)  대상인원  수검인원\n",
       "182  20 ~ 24세  2016   위암  남자        -        -     0     0\n",
       "183  20 ~ 24세  2016   위암  여자        -        -     0     0\n",
       "185  20 ~ 24세  2016  대장암  남자        -        -     0     0\n",
       "186  20 ~ 24세  2016  대장암  여자        -        -     0     0\n",
       "188  20 ~ 24세  2016   간암  남자        -        -     0     0"
      ]
     },
     "execution_count": 62,
     "metadata": {},
     "output_type": "execute_result"
    }
   ],
   "source": [
    "# 판다스의 head() 함수로 DataFrame의 앞쪽 데이터를 괄호 안에 지정한 개수만큼 얻어올 수 있습니다.\n",
    "# 지정하지 않으면 기본값인 5개를 얻어오게 됩니다.\n",
    "df.head()"
   ]
  },
  {
   "cell_type": "code",
   "execution_count": 63,
   "id": "48208f09",
   "metadata": {
    "id": "6b709e32",
    "outputId": "0a20dd5c-991f-435f-9a70-b9fa0eeece6a"
   },
   "outputs": [
    {
     "data": {
      "text/html": [
       "<div>\n",
       "<style scoped>\n",
       "    .dataframe tbody tr th:only-of-type {\n",
       "        vertical-align: middle;\n",
       "    }\n",
       "\n",
       "    .dataframe tbody tr th {\n",
       "        vertical-align: top;\n",
       "    }\n",
       "\n",
       "    .dataframe thead th {\n",
       "        text-align: right;\n",
       "    }\n",
       "</style>\n",
       "<table border=\"1\" class=\"dataframe\">\n",
       "  <thead>\n",
       "    <tr style=\"text-align: right;\">\n",
       "      <th></th>\n",
       "      <th>연령별</th>\n",
       "      <th>시점</th>\n",
       "      <th>암검진별</th>\n",
       "      <th>성별</th>\n",
       "      <th>대상인원 (명)</th>\n",
       "      <th>수검인원 (명)</th>\n",
       "      <th>대상인원</th>\n",
       "      <th>수검인원</th>\n",
       "    </tr>\n",
       "  </thead>\n",
       "  <tbody>\n",
       "    <tr>\n",
       "      <th>2414</th>\n",
       "      <td>85세 이상</td>\n",
       "      <td>2019</td>\n",
       "      <td>위암</td>\n",
       "      <td>남자</td>\n",
       "      <td>69158</td>\n",
       "      <td>19475</td>\n",
       "      <td>69158</td>\n",
       "      <td>19475</td>\n",
       "    </tr>\n",
       "    <tr>\n",
       "      <th>2415</th>\n",
       "      <td>85세 이상</td>\n",
       "      <td>2019</td>\n",
       "      <td>위암</td>\n",
       "      <td>여자</td>\n",
       "      <td>172662</td>\n",
       "      <td>26355</td>\n",
       "      <td>172662</td>\n",
       "      <td>26355</td>\n",
       "    </tr>\n",
       "    <tr>\n",
       "      <th>2417</th>\n",
       "      <td>85세 이상</td>\n",
       "      <td>2019</td>\n",
       "      <td>대장암</td>\n",
       "      <td>남자</td>\n",
       "      <td>150244</td>\n",
       "      <td>28315</td>\n",
       "      <td>150244</td>\n",
       "      <td>28315</td>\n",
       "    </tr>\n",
       "    <tr>\n",
       "      <th>2418</th>\n",
       "      <td>85세 이상</td>\n",
       "      <td>2019</td>\n",
       "      <td>대장암</td>\n",
       "      <td>여자</td>\n",
       "      <td>369494</td>\n",
       "      <td>37486</td>\n",
       "      <td>369494</td>\n",
       "      <td>37486</td>\n",
       "    </tr>\n",
       "    <tr>\n",
       "      <th>2420</th>\n",
       "      <td>85세 이상</td>\n",
       "      <td>2019</td>\n",
       "      <td>간암</td>\n",
       "      <td>남자</td>\n",
       "      <td>2011</td>\n",
       "      <td>661</td>\n",
       "      <td>2011</td>\n",
       "      <td>661</td>\n",
       "    </tr>\n",
       "    <tr>\n",
       "      <th>2421</th>\n",
       "      <td>85세 이상</td>\n",
       "      <td>2019</td>\n",
       "      <td>간암</td>\n",
       "      <td>여자</td>\n",
       "      <td>3592</td>\n",
       "      <td>914</td>\n",
       "      <td>3592</td>\n",
       "      <td>914</td>\n",
       "    </tr>\n",
       "    <tr>\n",
       "      <th>2423</th>\n",
       "      <td>85세 이상</td>\n",
       "      <td>2019</td>\n",
       "      <td>유방암</td>\n",
       "      <td>남자</td>\n",
       "      <td>-</td>\n",
       "      <td>-</td>\n",
       "      <td>0</td>\n",
       "      <td>0</td>\n",
       "    </tr>\n",
       "    <tr>\n",
       "      <th>2424</th>\n",
       "      <td>85세 이상</td>\n",
       "      <td>2019</td>\n",
       "      <td>유방암</td>\n",
       "      <td>여자</td>\n",
       "      <td>171274</td>\n",
       "      <td>22476</td>\n",
       "      <td>171274</td>\n",
       "      <td>22476</td>\n",
       "    </tr>\n",
       "    <tr>\n",
       "      <th>2426</th>\n",
       "      <td>85세 이상</td>\n",
       "      <td>2019</td>\n",
       "      <td>자궁경부암</td>\n",
       "      <td>남자</td>\n",
       "      <td>-</td>\n",
       "      <td>-</td>\n",
       "      <td>0</td>\n",
       "      <td>0</td>\n",
       "    </tr>\n",
       "    <tr>\n",
       "      <th>2427</th>\n",
       "      <td>85세 이상</td>\n",
       "      <td>2019</td>\n",
       "      <td>자궁경부암</td>\n",
       "      <td>여자</td>\n",
       "      <td>165503</td>\n",
       "      <td>9123</td>\n",
       "      <td>165503</td>\n",
       "      <td>9123</td>\n",
       "    </tr>\n",
       "  </tbody>\n",
       "</table>\n",
       "</div>"
      ],
      "text/plain": [
       "         연령별    시점   암검진별  성별 대상인원 (명) 수검인원 (명)    대상인원   수검인원\n",
       "2414  85세 이상  2019     위암  남자    69158    19475   69158  19475\n",
       "2415  85세 이상  2019     위암  여자   172662    26355  172662  26355\n",
       "2417  85세 이상  2019    대장암  남자   150244    28315  150244  28315\n",
       "2418  85세 이상  2019    대장암  여자   369494    37486  369494  37486\n",
       "2420  85세 이상  2019     간암  남자     2011      661    2011    661\n",
       "2421  85세 이상  2019     간암  여자     3592      914    3592    914\n",
       "2423  85세 이상  2019    유방암  남자        -        -       0      0\n",
       "2424  85세 이상  2019    유방암  여자   171274    22476  171274  22476\n",
       "2426  85세 이상  2019  자궁경부암  남자        -        -       0      0\n",
       "2427  85세 이상  2019  자궁경부암  여자   165503     9123  165503   9123"
      ]
     },
     "execution_count": 63,
     "metadata": {},
     "output_type": "execute_result"
    }
   ],
   "source": [
    "# 판다스의 tail() 함수로 DataFrame의 뒤쪽 데이터를 괄호 안에 지정한 개수만큼 얻어올 수 있습니다.\n",
    "# 지정하지 않으면 기본값인 5개를 얻어오게 됩니다.\n",
    "df.tail(10)\n",
    "# df.tail()"
   ]
  },
  {
   "cell_type": "code",
   "execution_count": 64,
   "id": "478caace",
   "metadata": {
    "id": "f325fc49",
    "outputId": "61170414-ab26-458d-c71e-d70fae2b2eff"
   },
   "outputs": [
    {
     "data": {
      "text/html": [
       "<div>\n",
       "<style scoped>\n",
       "    .dataframe tbody tr th:only-of-type {\n",
       "        vertical-align: middle;\n",
       "    }\n",
       "\n",
       "    .dataframe tbody tr th {\n",
       "        vertical-align: top;\n",
       "    }\n",
       "\n",
       "    .dataframe thead th {\n",
       "        text-align: right;\n",
       "    }\n",
       "</style>\n",
       "<table border=\"1\" class=\"dataframe\">\n",
       "  <thead>\n",
       "    <tr style=\"text-align: right;\">\n",
       "      <th></th>\n",
       "      <th>연령별</th>\n",
       "      <th>시점</th>\n",
       "      <th>암검진별</th>\n",
       "      <th>성별</th>\n",
       "      <th>대상인원 (명)</th>\n",
       "      <th>수검인원 (명)</th>\n",
       "      <th>대상인원</th>\n",
       "      <th>수검인원</th>\n",
       "    </tr>\n",
       "  </thead>\n",
       "  <tbody>\n",
       "    <tr>\n",
       "      <th>1578</th>\n",
       "      <td>65 ~ 69세</td>\n",
       "      <td>2012</td>\n",
       "      <td>위암</td>\n",
       "      <td>남자</td>\n",
       "      <td>308865</td>\n",
       "      <td>203012</td>\n",
       "      <td>308865</td>\n",
       "      <td>203012</td>\n",
       "    </tr>\n",
       "    <tr>\n",
       "      <th>2276</th>\n",
       "      <td>85세 이상</td>\n",
       "      <td>2011</td>\n",
       "      <td>대장암</td>\n",
       "      <td>여자</td>\n",
       "      <td>116275</td>\n",
       "      <td>4900</td>\n",
       "      <td>116275</td>\n",
       "      <td>4900</td>\n",
       "    </tr>\n",
       "    <tr>\n",
       "      <th>499</th>\n",
       "      <td>35 ~ 39세</td>\n",
       "      <td>2010</td>\n",
       "      <td>간암</td>\n",
       "      <td>여자</td>\n",
       "      <td>-</td>\n",
       "      <td>-</td>\n",
       "      <td>0</td>\n",
       "      <td>0</td>\n",
       "    </tr>\n",
       "    <tr>\n",
       "      <th>653</th>\n",
       "      <td>35 ~ 39세</td>\n",
       "      <td>2019</td>\n",
       "      <td>자궁경부암</td>\n",
       "      <td>여자</td>\n",
       "      <td>690878</td>\n",
       "      <td>448150</td>\n",
       "      <td>690878</td>\n",
       "      <td>448150</td>\n",
       "    </tr>\n",
       "    <tr>\n",
       "      <th>1195</th>\n",
       "      <td>55 ~ 59세</td>\n",
       "      <td>2010</td>\n",
       "      <td>유방암</td>\n",
       "      <td>남자</td>\n",
       "      <td>-</td>\n",
       "      <td>-</td>\n",
       "      <td>0</td>\n",
       "      <td>0</td>\n",
       "    </tr>\n",
       "  </tbody>\n",
       "</table>\n",
       "</div>"
      ],
      "text/plain": [
       "           연령별    시점   암검진별  성별 대상인원 (명) 수검인원 (명)    대상인원    수검인원\n",
       "1578  65 ~ 69세  2012     위암  남자   308865   203012  308865  203012\n",
       "2276    85세 이상  2011    대장암  여자   116275     4900  116275    4900\n",
       "499   35 ~ 39세  2010     간암  여자        -        -       0       0\n",
       "653   35 ~ 39세  2019  자궁경부암  여자   690878   448150  690878  448150\n",
       "1195  55 ~ 59세  2010    유방암  남자        -        -       0       0"
      ]
     },
     "execution_count": 64,
     "metadata": {},
     "output_type": "execute_result"
    }
   ],
   "source": [
    "# sample() 함수로 DataFrame의 랜덤 데이터를 괄호 안에 지정한 개수만큼 얻어올 수 있습니다.\n",
    "# 지정하지 않으면 기본값인 1개를 얻어오게 됩니다.\n",
    "df.sample(5)"
   ]
  },
  {
   "cell_type": "markdown",
   "id": "9ff460e6",
   "metadata": {
    "id": "aeaa2d8a"
   },
   "source": [
    "## 데이터 요약하기"
   ]
  },
  {
   "cell_type": "code",
   "execution_count": 66,
   "id": "8ae5dfe6",
   "metadata": {
    "id": "808813c8",
    "outputId": "d357b21d-75ed-49f7-8e8e-2e1a1ae6dca2"
   },
   "outputs": [
    {
     "name": "stdout",
     "output_type": "stream",
     "text": [
      "<class 'pandas.core.frame.DataFrame'>\n",
      "Int64Index: 1238 entries, 182 to 2427\n",
      "Data columns (total 8 columns):\n",
      " #   Column    Non-Null Count  Dtype \n",
      "---  ------    --------------  ----- \n",
      " 0   연령별       1238 non-null   object\n",
      " 1   시점        1238 non-null   int64 \n",
      " 2   암검진별      1238 non-null   object\n",
      " 3   성별        1238 non-null   object\n",
      " 4   대상인원 (명)  1238 non-null   object\n",
      " 5   수검인원 (명)  1238 non-null   object\n",
      " 6   대상인원      1238 non-null   int64 \n",
      " 7   수검인원      1238 non-null   int64 \n",
      "dtypes: int64(3), object(5)\n",
      "memory usage: 87.0+ KB\n"
     ]
    }
   ],
   "source": [
    "# info() 함수를 사용하면 DataFrame을 구성하고있는 데이터 자료형의 자세한 내용을 확인할 수 있습니다.\n",
    "df.info()"
   ]
  },
  {
   "cell_type": "code",
   "execution_count": 67,
   "id": "b5da4b74",
   "metadata": {
    "id": "eea6e379",
    "outputId": "e28f209f-4217-4f7a-eff3-0b2087c11f66"
   },
   "outputs": [
    {
     "data": {
      "text/html": [
       "<div>\n",
       "<style scoped>\n",
       "    .dataframe tbody tr th:only-of-type {\n",
       "        vertical-align: middle;\n",
       "    }\n",
       "\n",
       "    .dataframe tbody tr th {\n",
       "        vertical-align: top;\n",
       "    }\n",
       "\n",
       "    .dataframe thead th {\n",
       "        text-align: right;\n",
       "    }\n",
       "</style>\n",
       "<table border=\"1\" class=\"dataframe\">\n",
       "  <thead>\n",
       "    <tr style=\"text-align: right;\">\n",
       "      <th></th>\n",
       "      <th>시점</th>\n",
       "      <th>대상인원</th>\n",
       "      <th>수검인원</th>\n",
       "    </tr>\n",
       "  </thead>\n",
       "  <tbody>\n",
       "    <tr>\n",
       "      <th>count</th>\n",
       "      <td>1238.000000</td>\n",
       "      <td>1.238000e+03</td>\n",
       "      <td>1238.000000</td>\n",
       "    </tr>\n",
       "    <tr>\n",
       "      <th>mean</th>\n",
       "      <td>2014.676898</td>\n",
       "      <td>3.205908e+05</td>\n",
       "      <td>155581.409532</td>\n",
       "    </tr>\n",
       "    <tr>\n",
       "      <th>std</th>\n",
       "      <td>2.937060</td>\n",
       "      <td>4.335422e+05</td>\n",
       "      <td>214726.839330</td>\n",
       "    </tr>\n",
       "    <tr>\n",
       "      <th>min</th>\n",
       "      <td>2010.000000</td>\n",
       "      <td>0.000000e+00</td>\n",
       "      <td>0.000000</td>\n",
       "    </tr>\n",
       "    <tr>\n",
       "      <th>25%</th>\n",
       "      <td>2012.000000</td>\n",
       "      <td>0.000000e+00</td>\n",
       "      <td>0.000000</td>\n",
       "    </tr>\n",
       "    <tr>\n",
       "      <th>50%</th>\n",
       "      <td>2015.000000</td>\n",
       "      <td>6.345100e+04</td>\n",
       "      <td>25318.000000</td>\n",
       "    </tr>\n",
       "    <tr>\n",
       "      <th>75%</th>\n",
       "      <td>2017.000000</td>\n",
       "      <td>6.015292e+05</td>\n",
       "      <td>300887.250000</td>\n",
       "    </tr>\n",
       "    <tr>\n",
       "      <th>max</th>\n",
       "      <td>2019.000000</td>\n",
       "      <td>1.859394e+06</td>\n",
       "      <td>768088.000000</td>\n",
       "    </tr>\n",
       "  </tbody>\n",
       "</table>\n",
       "</div>"
      ],
      "text/plain": [
       "                시점          대상인원           수검인원\n",
       "count  1238.000000  1.238000e+03    1238.000000\n",
       "mean   2014.676898  3.205908e+05  155581.409532\n",
       "std       2.937060  4.335422e+05  214726.839330\n",
       "min    2010.000000  0.000000e+00       0.000000\n",
       "25%    2012.000000  0.000000e+00       0.000000\n",
       "50%    2015.000000  6.345100e+04   25318.000000\n",
       "75%    2017.000000  6.015292e+05  300887.250000\n",
       "max    2019.000000  1.859394e+06  768088.000000"
      ]
     },
     "execution_count": 67,
     "metadata": {},
     "output_type": "execute_result"
    }
   ],
   "source": [
    "# describe() 함수로 DataFrame에 저장된 숫자 데이터의 요약 통계량을 확인 할 수 있습니다.\n",
    "# df에 숫자데이터는 '시점' column만 존재하기 때문에 '시점' column만 요약 통계량이 나오게 됩니다.\n",
    "df.describe()"
   ]
  },
  {
   "cell_type": "code",
   "execution_count": 68,
   "id": "3e24e428",
   "metadata": {
    "id": "4d6bc70e",
    "outputId": "9429c383-e29d-476c-d818-2e62978c8098"
   },
   "outputs": [
    {
     "data": {
      "text/plain": [
       "연령별          14\n",
       "시점           10\n",
       "암검진별          5\n",
       "성별            2\n",
       "대상인원 (명)    789\n",
       "수검인원 (명)    789\n",
       "대상인원        788\n",
       "수검인원        788\n",
       "dtype: int64"
      ]
     },
     "execution_count": 68,
     "metadata": {},
     "output_type": "execute_result"
    }
   ],
   "source": [
    "# nunique() 함수로 DataFrame에 고유값의 개수를 확인할 수 있습니다.\n",
    "df.nunique()"
   ]
  },
  {
   "cell_type": "code",
   "execution_count": 69,
   "id": "344e73ce",
   "metadata": {
    "id": "b4e75c7e",
    "outputId": "54c94d44-72ef-46ca-9da9-9188bb6b780c"
   },
   "outputs": [
    {
     "data": {
      "text/plain": [
       "Int64Index([ 182,  183,  185,  186,  188,  189,  191,  192,  194,  195,\n",
       "            ...\n",
       "            2414, 2415, 2417, 2418, 2420, 2421, 2423, 2424, 2426, 2427],\n",
       "           dtype='int64', length=1238)"
      ]
     },
     "execution_count": 69,
     "metadata": {},
     "output_type": "execute_result"
    }
   ],
   "source": [
    "# index속성은 DataFrame의 인덱스를 얻어올 수 있습니다.\n",
    "df.index"
   ]
  },
  {
   "cell_type": "code",
   "execution_count": 70,
   "id": "51e42631",
   "metadata": {
    "id": "054a58e7",
    "outputId": "9570e825-a449-41bb-809d-14da8fa786e3"
   },
   "outputs": [
    {
     "data": {
      "text/plain": [
       "Index(['연령별', '시점', '암검진별', '성별', '대상인원 (명)', '수검인원 (명)', '대상인원', '수검인원'], dtype='object')"
      ]
     },
     "execution_count": 70,
     "metadata": {},
     "output_type": "execute_result"
    }
   ],
   "source": [
    "# columns속성을 통해 DataFrame을 구성하는 열 이름과 속성을 확인할 수 있습니다.\n",
    "df.columns"
   ]
  },
  {
   "cell_type": "code",
   "execution_count": 71,
   "id": "793fcc0f",
   "metadata": {
    "id": "5e72ae8f",
    "outputId": "15564816-2079-4ee6-ea21-565f5a514dae"
   },
   "outputs": [
    {
     "data": {
      "text/plain": [
       "array([['20 ~ 24세', 2016, '위암', ..., '-', 0, 0],\n",
       "       ['20 ~ 24세', 2016, '위암', ..., '-', 0, 0],\n",
       "       ['20 ~ 24세', 2016, '대장암', ..., '-', 0, 0],\n",
       "       ...,\n",
       "       ['85세 이상', 2019, '유방암', ..., '22476', 171274, 22476],\n",
       "       ['85세 이상', 2019, '자궁경부암', ..., '-', 0, 0],\n",
       "       ['85세 이상', 2019, '자궁경부암', ..., '9123', 165503, 9123]], dtype=object)"
      ]
     },
     "execution_count": 71,
     "metadata": {},
     "output_type": "execute_result"
    }
   ],
   "source": [
    "# values속성을 통해 시리즈의 데이터를 얻어올 수 있습니다.\n",
    "df.values"
   ]
  },
  {
   "cell_type": "markdown",
   "id": "e723e06a",
   "metadata": {},
   "source": [
    "## 데이터 타입 변경"
   ]
  },
  {
   "cell_type": "code",
   "execution_count": null,
   "id": "5de111f9",
   "metadata": {
    "id": "064608d3",
    "outputId": "d0027f7b-d4f6-442d-c5ac-5d173092f8fb"
   },
   "outputs": [],
   "source": [
    "# astype함수를 통해 dtype을 변경할 수 있습니다.\n",
    "# df['대상인원']\n",
    "# df['수검인원']"
   ]
  },
  {
   "cell_type": "markdown",
   "id": "09e4028c",
   "metadata": {
    "id": "80f2740b"
   },
   "source": [
    "## 데이터 색인하기"
   ]
  },
  {
   "cell_type": "markdown",
   "id": "1027b6c2",
   "metadata": {
    "id": "80ad1813"
   },
   "source": [
    "### Series\n",
    "<img src=\"https://pandas.pydata.org/docs/_images/01_table_series.svg\">"
   ]
  },
  {
   "cell_type": "code",
   "execution_count": 72,
   "id": "9cd7e359",
   "metadata": {
    "id": "5b96e6cc",
    "outputId": "ce62ec01-73d6-4e31-e6a7-196397f26b51"
   },
   "outputs": [
    {
     "data": {
      "text/plain": [
       "182     남자\n",
       "183     여자\n",
       "185     남자\n",
       "186     여자\n",
       "188     남자\n",
       "        ..\n",
       "2421    여자\n",
       "2423    남자\n",
       "2424    여자\n",
       "2426    남자\n",
       "2427    여자\n",
       "Name: 성별, Length: 1238, dtype: object"
      ]
     },
     "execution_count": 72,
     "metadata": {},
     "output_type": "execute_result"
    }
   ],
   "source": [
    "# 컬럼 하나를 색인합니다.\n",
    "df[\"성별\"]"
   ]
  },
  {
   "cell_type": "code",
   "execution_count": 74,
   "id": "853a2e57",
   "metadata": {
    "id": "d5041fc9",
    "outputId": "1116de7c-5aab-4fdb-f224-b38a5d49d48b"
   },
   "outputs": [
    {
     "data": {
      "text/plain": [
       "pandas.core.series.Series"
      ]
     },
     "execution_count": 74,
     "metadata": {},
     "output_type": "execute_result"
    }
   ],
   "source": [
    "# df['암검진별']의 type을 확인해 봅니다.\n",
    "type(df[\"암검진별\"])"
   ]
  },
  {
   "cell_type": "code",
   "execution_count": 77,
   "id": "a28382c4",
   "metadata": {
    "id": "8869edde",
    "outputId": "d41969ea-db50-4c8e-8d56-858a65765f6b"
   },
   "outputs": [
    {
     "data": {
      "text/plain": [
       "연령별         20 ~ 24세\n",
       "시점              2016\n",
       "암검진별              위암\n",
       "성별                남자\n",
       "대상인원 (명)           -\n",
       "수검인원 (명)           -\n",
       "대상인원               0\n",
       "수검인원               0\n",
       "Name: 182, dtype: object"
      ]
     },
     "execution_count": 77,
     "metadata": {},
     "output_type": "execute_result"
    }
   ],
   "source": [
    "# 0번째 행만 가져옵니다. 행 인덱스를 가져올 때는 .loc를 이용합니다.\n",
    "# loc는 위치(locate)를 의미합니다.\n",
    "df.loc[182]"
   ]
  },
  {
   "cell_type": "code",
   "execution_count": 78,
   "id": "1120ded9",
   "metadata": {
    "id": "26851cda",
    "outputId": "a81e2a0e-3e56-4bd2-9eec-5215fd77061c"
   },
   "outputs": [
    {
     "data": {
      "text/plain": [
       "pandas.core.series.Series"
      ]
     },
     "execution_count": 78,
     "metadata": {},
     "output_type": "execute_result"
    }
   ],
   "source": [
    "# df.loc[0]의 type을 확인해 봅니다.\n",
    "type(df.loc[182])"
   ]
  },
  {
   "cell_type": "markdown",
   "id": "589bca74",
   "metadata": {
    "id": "f9df94f0"
   },
   "source": [
    "### DataFrame\n",
    "<img src=\"https://pandas.pydata.org/docs/_images/01_table_dataframe.svg\" width=\"400\">"
   ]
  },
  {
   "cell_type": "code",
   "execution_count": 79,
   "id": "463ac1d5",
   "metadata": {
    "id": "a4a2e176",
    "outputId": "e856e95a-7122-4a27-be6c-5e694ee3c24a"
   },
   "outputs": [
    {
     "data": {
      "text/plain": [
       "pandas.core.frame.DataFrame"
      ]
     },
     "execution_count": 79,
     "metadata": {},
     "output_type": "execute_result"
    }
   ],
   "source": [
    "# df 변수의 type을 확인해 봅니다.\n",
    "type(df)"
   ]
  },
  {
   "cell_type": "code",
   "execution_count": 82,
   "id": "c8366785",
   "metadata": {
    "id": "4d69ef54",
    "outputId": "aff13874-7ff7-4c8c-e517-69b1c1ad8796"
   },
   "outputs": [
    {
     "data": {
      "text/html": [
       "<div>\n",
       "<style scoped>\n",
       "    .dataframe tbody tr th:only-of-type {\n",
       "        vertical-align: middle;\n",
       "    }\n",
       "\n",
       "    .dataframe tbody tr th {\n",
       "        vertical-align: top;\n",
       "    }\n",
       "\n",
       "    .dataframe thead th {\n",
       "        text-align: right;\n",
       "    }\n",
       "</style>\n",
       "<table border=\"1\" class=\"dataframe\">\n",
       "  <thead>\n",
       "    <tr style=\"text-align: right;\">\n",
       "      <th></th>\n",
       "      <th>암검진별</th>\n",
       "      <th>성별</th>\n",
       "    </tr>\n",
       "  </thead>\n",
       "  <tbody>\n",
       "    <tr>\n",
       "      <th>182</th>\n",
       "      <td>위암</td>\n",
       "      <td>남자</td>\n",
       "    </tr>\n",
       "    <tr>\n",
       "      <th>183</th>\n",
       "      <td>위암</td>\n",
       "      <td>여자</td>\n",
       "    </tr>\n",
       "    <tr>\n",
       "      <th>185</th>\n",
       "      <td>대장암</td>\n",
       "      <td>남자</td>\n",
       "    </tr>\n",
       "    <tr>\n",
       "      <th>186</th>\n",
       "      <td>대장암</td>\n",
       "      <td>여자</td>\n",
       "    </tr>\n",
       "    <tr>\n",
       "      <th>188</th>\n",
       "      <td>간암</td>\n",
       "      <td>남자</td>\n",
       "    </tr>\n",
       "    <tr>\n",
       "      <th>...</th>\n",
       "      <td>...</td>\n",
       "      <td>...</td>\n",
       "    </tr>\n",
       "    <tr>\n",
       "      <th>2421</th>\n",
       "      <td>간암</td>\n",
       "      <td>여자</td>\n",
       "    </tr>\n",
       "    <tr>\n",
       "      <th>2423</th>\n",
       "      <td>유방암</td>\n",
       "      <td>남자</td>\n",
       "    </tr>\n",
       "    <tr>\n",
       "      <th>2424</th>\n",
       "      <td>유방암</td>\n",
       "      <td>여자</td>\n",
       "    </tr>\n",
       "    <tr>\n",
       "      <th>2426</th>\n",
       "      <td>자궁경부암</td>\n",
       "      <td>남자</td>\n",
       "    </tr>\n",
       "    <tr>\n",
       "      <th>2427</th>\n",
       "      <td>자궁경부암</td>\n",
       "      <td>여자</td>\n",
       "    </tr>\n",
       "  </tbody>\n",
       "</table>\n",
       "<p>1238 rows × 2 columns</p>\n",
       "</div>"
      ],
      "text/plain": [
       "       암검진별  성별\n",
       "182      위암  남자\n",
       "183      위암  여자\n",
       "185     대장암  남자\n",
       "186     대장암  여자\n",
       "188      간암  남자\n",
       "...     ...  ..\n",
       "2421     간암  여자\n",
       "2423    유방암  남자\n",
       "2424    유방암  여자\n",
       "2426  자궁경부암  남자\n",
       "2427  자궁경부암  여자\n",
       "\n",
       "[1238 rows x 2 columns]"
      ]
     },
     "execution_count": 82,
     "metadata": {},
     "output_type": "execute_result"
    }
   ],
   "source": [
    "# 여러 컬럼을 지정할 때는 리스트 형태로 묶어주어야 합니다.\n",
    "# 2차원 행렬은 [](대괄호)가 2개가 있습니다..\n",
    "df[[\"암검진별\", \"성별\"]]"
   ]
  },
  {
   "cell_type": "code",
   "execution_count": 81,
   "id": "fb52d316",
   "metadata": {
    "id": "a636c31e",
    "outputId": "d89bf5a8-be73-4218-8562-c011c4e754b4"
   },
   "outputs": [
    {
     "data": {
      "text/html": [
       "<div>\n",
       "<style scoped>\n",
       "    .dataframe tbody tr th:only-of-type {\n",
       "        vertical-align: middle;\n",
       "    }\n",
       "\n",
       "    .dataframe tbody tr th {\n",
       "        vertical-align: top;\n",
       "    }\n",
       "\n",
       "    .dataframe thead th {\n",
       "        text-align: right;\n",
       "    }\n",
       "</style>\n",
       "<table border=\"1\" class=\"dataframe\">\n",
       "  <thead>\n",
       "    <tr style=\"text-align: right;\">\n",
       "      <th></th>\n",
       "      <th>연령별</th>\n",
       "      <th>시점</th>\n",
       "      <th>암검진별</th>\n",
       "      <th>성별</th>\n",
       "      <th>대상인원 (명)</th>\n",
       "      <th>수검인원 (명)</th>\n",
       "      <th>대상인원</th>\n",
       "      <th>수검인원</th>\n",
       "    </tr>\n",
       "  </thead>\n",
       "  <tbody>\n",
       "    <tr>\n",
       "      <th>182</th>\n",
       "      <td>20 ~ 24세</td>\n",
       "      <td>2016</td>\n",
       "      <td>위암</td>\n",
       "      <td>남자</td>\n",
       "      <td>-</td>\n",
       "      <td>-</td>\n",
       "      <td>0</td>\n",
       "      <td>0</td>\n",
       "    </tr>\n",
       "    <tr>\n",
       "      <th>183</th>\n",
       "      <td>20 ~ 24세</td>\n",
       "      <td>2016</td>\n",
       "      <td>위암</td>\n",
       "      <td>여자</td>\n",
       "      <td>-</td>\n",
       "      <td>-</td>\n",
       "      <td>0</td>\n",
       "      <td>0</td>\n",
       "    </tr>\n",
       "  </tbody>\n",
       "</table>\n",
       "</div>"
      ],
      "text/plain": [
       "          연령별    시점 암검진별  성별 대상인원 (명) 수검인원 (명)  대상인원  수검인원\n",
       "182  20 ~ 24세  2016   위암  남자        -        -     0     0\n",
       "183  20 ~ 24세  2016   위암  여자        -        -     0     0"
      ]
     },
     "execution_count": 81,
     "metadata": {},
     "output_type": "execute_result"
    }
   ],
   "source": [
    "# 여러 개의 행을 가져올 때도 [](대괄호)를 통해 리스트 형태로 묶어주어야 합니다.\n",
    "df.loc[[182, 183]]"
   ]
  },
  {
   "cell_type": "code",
   "execution_count": 83,
   "id": "6a3faab9",
   "metadata": {
    "id": "aa30f1f3",
    "outputId": "bf953e8f-dd7f-4f8e-cb2a-7ac14f33259e"
   },
   "outputs": [
    {
     "data": {
      "text/html": [
       "<div>\n",
       "<style scoped>\n",
       "    .dataframe tbody tr th:only-of-type {\n",
       "        vertical-align: middle;\n",
       "    }\n",
       "\n",
       "    .dataframe tbody tr th {\n",
       "        vertical-align: top;\n",
       "    }\n",
       "\n",
       "    .dataframe thead th {\n",
       "        text-align: right;\n",
       "    }\n",
       "</style>\n",
       "<table border=\"1\" class=\"dataframe\">\n",
       "  <thead>\n",
       "    <tr style=\"text-align: right;\">\n",
       "      <th></th>\n",
       "      <th>암검진별</th>\n",
       "    </tr>\n",
       "  </thead>\n",
       "  <tbody>\n",
       "    <tr>\n",
       "      <th>182</th>\n",
       "      <td>위암</td>\n",
       "    </tr>\n",
       "    <tr>\n",
       "      <th>183</th>\n",
       "      <td>위암</td>\n",
       "    </tr>\n",
       "    <tr>\n",
       "      <th>185</th>\n",
       "      <td>대장암</td>\n",
       "    </tr>\n",
       "    <tr>\n",
       "      <th>186</th>\n",
       "      <td>대장암</td>\n",
       "    </tr>\n",
       "    <tr>\n",
       "      <th>188</th>\n",
       "      <td>간암</td>\n",
       "    </tr>\n",
       "    <tr>\n",
       "      <th>...</th>\n",
       "      <td>...</td>\n",
       "    </tr>\n",
       "    <tr>\n",
       "      <th>2421</th>\n",
       "      <td>간암</td>\n",
       "    </tr>\n",
       "    <tr>\n",
       "      <th>2423</th>\n",
       "      <td>유방암</td>\n",
       "    </tr>\n",
       "    <tr>\n",
       "      <th>2424</th>\n",
       "      <td>유방암</td>\n",
       "    </tr>\n",
       "    <tr>\n",
       "      <th>2426</th>\n",
       "      <td>자궁경부암</td>\n",
       "    </tr>\n",
       "    <tr>\n",
       "      <th>2427</th>\n",
       "      <td>자궁경부암</td>\n",
       "    </tr>\n",
       "  </tbody>\n",
       "</table>\n",
       "<p>1238 rows × 1 columns</p>\n",
       "</div>"
      ],
      "text/plain": [
       "       암검진별\n",
       "182      위암\n",
       "183      위암\n",
       "185     대장암\n",
       "186     대장암\n",
       "188      간암\n",
       "...     ...\n",
       "2421     간암\n",
       "2423    유방암\n",
       "2424    유방암\n",
       "2426  자궁경부암\n",
       "2427  자궁경부암\n",
       "\n",
       "[1238 rows x 1 columns]"
      ]
     },
     "execution_count": 83,
     "metadata": {},
     "output_type": "execute_result"
    }
   ],
   "source": [
    "# 1개의 column을 가져올 때도 [](대괄호) 2개를 써서 리스트 형태로 묶어주게 되면 데이터프레임 형태로 반환됩니다.\n",
    "# '암검진별'을 데이터프레임으로 가져옵니다.\n",
    "df[[\"암검진별\"]]"
   ]
  },
  {
   "cell_type": "code",
   "execution_count": null,
   "id": "7db52b10",
   "metadata": {
    "id": "b81ddac6",
    "outputId": "1d49dd12-b6ba-4283-9153-29024c65f7b6"
   },
   "outputs": [],
   "source": []
  },
  {
   "cell_type": "markdown",
   "id": "78bc15be",
   "metadata": {
    "id": "42753bf8"
   },
   "source": [
    "### loc를 통한 서브셋 가져오기\n",
    "<img src = 'https://pandas.pydata.org/docs/_images/03_subset_columns_rows.svg' width=\"600\">"
   ]
  },
  {
   "cell_type": "code",
   "execution_count": 85,
   "id": "5588886b",
   "metadata": {
    "id": "e096dc7e",
    "outputId": "b366f349-2881-42c5-8ce3-2f7c4f0ecffa"
   },
   "outputs": [
    {
     "data": {
      "text/plain": [
       "'남자'"
      ]
     },
     "execution_count": 85,
     "metadata": {},
     "output_type": "execute_result"
    }
   ],
   "source": [
    "# 행과 열 함께 가져오기\n",
    "# .loc[행, 열]\n",
    "df.loc[182, \"성별\"]"
   ]
  },
  {
   "cell_type": "code",
   "execution_count": 87,
   "id": "6f73aa6f",
   "metadata": {
    "id": "eeb43296",
    "outputId": "80863dce-41d7-46d8-c803-3aac43deecb5"
   },
   "outputs": [
    {
     "data": {
      "text/plain": [
       "'남자'"
      ]
     },
     "execution_count": 87,
     "metadata": {},
     "output_type": "execute_result"
    }
   ],
   "source": [
    "# .loc[행][열]\n",
    "df.loc[182][\"성별\"]"
   ]
  },
  {
   "cell_type": "code",
   "execution_count": null,
   "id": "1955f029",
   "metadata": {
    "id": "effe8b80"
   },
   "outputs": [],
   "source": [
    "# 행과 열을 다른 리스트로 분리할 때와 같은 리스트로 묶어줄 때는 실행속도의 차이가 있습니다."
   ]
  },
  {
   "cell_type": "code",
   "execution_count": 89,
   "id": "eedd036a",
   "metadata": {
    "id": "ef417e00"
   },
   "outputs": [
    {
     "name": "stdout",
     "output_type": "stream",
     "text": [
      "11.3 µs ± 1.12 µs per loop (mean ± std. dev. of 7 runs, 100000 loops each)\n"
     ]
    }
   ],
   "source": [
    "%timeit df.loc[182, '암검진별']"
   ]
  },
  {
   "cell_type": "code",
   "execution_count": 90,
   "id": "ca44544f",
   "metadata": {
    "id": "2d97ce0a"
   },
   "outputs": [
    {
     "name": "stdout",
     "output_type": "stream",
     "text": [
      "165 µs ± 16.4 µs per loop (mean ± std. dev. of 7 runs, 10000 loops each)\n"
     ]
    }
   ],
   "source": [
    "%timeit df.loc[182]['암검진별']"
   ]
  },
  {
   "cell_type": "code",
   "execution_count": 91,
   "id": "e74f3ec2",
   "metadata": {
    "id": "895b9771",
    "outputId": "3a2b72ff-090f-42d2-b714-be8417037c60"
   },
   "outputs": [
    {
     "data": {
      "text/plain": [
       "암검진별    위암\n",
       "성별      남자\n",
       "Name: 182, dtype: object"
      ]
     },
     "execution_count": 91,
     "metadata": {},
     "output_type": "execute_result"
    }
   ],
   "source": [
    "# 여러 개의 행과 하나의 column 가져오기\n",
    "# .loc[행, 열]\n",
    "df.loc[182, [\"암검진별\", \"성별\"]]"
   ]
  },
  {
   "cell_type": "code",
   "execution_count": 92,
   "id": "6ce375e0",
   "metadata": {
    "id": "d2cbd43e",
    "outputId": "a79025c7-9302-4b80-94e6-464a1176e106"
   },
   "outputs": [
    {
     "data": {
      "text/html": [
       "<div>\n",
       "<style scoped>\n",
       "    .dataframe tbody tr th:only-of-type {\n",
       "        vertical-align: middle;\n",
       "    }\n",
       "\n",
       "    .dataframe tbody tr th {\n",
       "        vertical-align: top;\n",
       "    }\n",
       "\n",
       "    .dataframe thead th {\n",
       "        text-align: right;\n",
       "    }\n",
       "</style>\n",
       "<table border=\"1\" class=\"dataframe\">\n",
       "  <thead>\n",
       "    <tr style=\"text-align: right;\">\n",
       "      <th></th>\n",
       "      <th>암검진별</th>\n",
       "      <th>성별</th>\n",
       "    </tr>\n",
       "  </thead>\n",
       "  <tbody>\n",
       "    <tr>\n",
       "      <th>182</th>\n",
       "      <td>위암</td>\n",
       "      <td>남자</td>\n",
       "    </tr>\n",
       "    <tr>\n",
       "      <th>183</th>\n",
       "      <td>위암</td>\n",
       "      <td>여자</td>\n",
       "    </tr>\n",
       "  </tbody>\n",
       "</table>\n",
       "</div>"
      ],
      "text/plain": [
       "    암검진별  성별\n",
       "182   위암  남자\n",
       "183   위암  여자"
      ]
     },
     "execution_count": 92,
     "metadata": {},
     "output_type": "execute_result"
    }
   ],
   "source": [
    "# 여러개의 행과 여러개의 컬럼 가져오기\n",
    "# .loc[행, 열]\n",
    "\n",
    "df.loc[[182, 183], [\"암검진별\", \"성별\"]]"
   ]
  },
  {
   "cell_type": "markdown",
   "id": "3c0f04ee",
   "metadata": {
    "id": "1a339cc3"
   },
   "source": [
    "### Boolean Indexing\n",
    "* 결과값이 True, False bool형태로 반환되기 대문에 boolean indexing이라고 부른다.\n",
    "* boolean indexing을 사용해 특정 조건식을 만족하는 데이터를 서브셋으로 가져온다."
   ]
  },
  {
   "cell_type": "code",
   "execution_count": 93,
   "id": "a8fcce83",
   "metadata": {
    "id": "c3db1df9",
    "outputId": "71ec5b6e-127f-40ae-d64b-23d2c89674a7"
   },
   "outputs": [
    {
     "data": {
      "text/html": [
       "<div>\n",
       "<style scoped>\n",
       "    .dataframe tbody tr th:only-of-type {\n",
       "        vertical-align: middle;\n",
       "    }\n",
       "\n",
       "    .dataframe tbody tr th {\n",
       "        vertical-align: top;\n",
       "    }\n",
       "\n",
       "    .dataframe thead th {\n",
       "        text-align: right;\n",
       "    }\n",
       "</style>\n",
       "<table border=\"1\" class=\"dataframe\">\n",
       "  <thead>\n",
       "    <tr style=\"text-align: right;\">\n",
       "      <th></th>\n",
       "      <th>연령별</th>\n",
       "      <th>시점</th>\n",
       "      <th>암검진별</th>\n",
       "      <th>성별</th>\n",
       "      <th>대상인원 (명)</th>\n",
       "      <th>수검인원 (명)</th>\n",
       "      <th>대상인원</th>\n",
       "      <th>수검인원</th>\n",
       "    </tr>\n",
       "  </thead>\n",
       "  <tbody>\n",
       "  </tbody>\n",
       "</table>\n",
       "</div>"
      ],
      "text/plain": [
       "Empty DataFrame\n",
       "Columns: [연령별, 시점, 암검진별, 성별, 대상인원 (명), 수검인원 (명), 대상인원, 수검인원]\n",
       "Index: []"
      ]
     },
     "execution_count": 93,
     "metadata": {},
     "output_type": "execute_result"
    }
   ],
   "source": [
    "# DataFrame에서 폐암과 자궁경부암에 관한 내용 찾아보기\n",
    "df[df['암검진별'] == '폐암']\n",
    "# 폐암 국가검진은 2019년 7월부터 추가되었기 때문에 폐암에 관한 데이터는 없습니다."
   ]
  },
  {
   "cell_type": "code",
   "execution_count": 96,
   "id": "19627a9c",
   "metadata": {
    "id": "c26613e5",
    "outputId": "10e03aaf-d67b-41b5-fd2c-c0fdeda810c3"
   },
   "outputs": [
    {
     "data": {
      "text/html": [
       "<div>\n",
       "<style scoped>\n",
       "    .dataframe tbody tr th:only-of-type {\n",
       "        vertical-align: middle;\n",
       "    }\n",
       "\n",
       "    .dataframe tbody tr th {\n",
       "        vertical-align: top;\n",
       "    }\n",
       "\n",
       "    .dataframe thead th {\n",
       "        text-align: right;\n",
       "    }\n",
       "</style>\n",
       "<table border=\"1\" class=\"dataframe\">\n",
       "  <thead>\n",
       "    <tr style=\"text-align: right;\">\n",
       "      <th></th>\n",
       "      <th>연령별</th>\n",
       "      <th>시점</th>\n",
       "      <th>암검진별</th>\n",
       "      <th>성별</th>\n",
       "      <th>대상인원 (명)</th>\n",
       "      <th>수검인원 (명)</th>\n",
       "      <th>대상인원</th>\n",
       "      <th>수검인원</th>\n",
       "    </tr>\n",
       "  </thead>\n",
       "  <tbody>\n",
       "    <tr>\n",
       "      <th>194</th>\n",
       "      <td>20 ~ 24세</td>\n",
       "      <td>2016</td>\n",
       "      <td>자궁경부암</td>\n",
       "      <td>남자</td>\n",
       "      <td>-</td>\n",
       "      <td>-</td>\n",
       "      <td>0</td>\n",
       "      <td>0</td>\n",
       "    </tr>\n",
       "    <tr>\n",
       "      <th>195</th>\n",
       "      <td>20 ~ 24세</td>\n",
       "      <td>2016</td>\n",
       "      <td>자궁경부암</td>\n",
       "      <td>여자</td>\n",
       "      <td>736010</td>\n",
       "      <td>138829</td>\n",
       "      <td>736010</td>\n",
       "      <td>138829</td>\n",
       "    </tr>\n",
       "    <tr>\n",
       "      <th>212</th>\n",
       "      <td>20 ~ 24세</td>\n",
       "      <td>2017</td>\n",
       "      <td>자궁경부암</td>\n",
       "      <td>남자</td>\n",
       "      <td>-</td>\n",
       "      <td>-</td>\n",
       "      <td>0</td>\n",
       "      <td>0</td>\n",
       "    </tr>\n",
       "    <tr>\n",
       "      <th>213</th>\n",
       "      <td>20 ~ 24세</td>\n",
       "      <td>2017</td>\n",
       "      <td>자궁경부암</td>\n",
       "      <td>여자</td>\n",
       "      <td>746162</td>\n",
       "      <td>166205</td>\n",
       "      <td>746162</td>\n",
       "      <td>166205</td>\n",
       "    </tr>\n",
       "    <tr>\n",
       "      <th>230</th>\n",
       "      <td>20 ~ 24세</td>\n",
       "      <td>2018</td>\n",
       "      <td>자궁경부암</td>\n",
       "      <td>남자</td>\n",
       "      <td>-</td>\n",
       "      <td>-</td>\n",
       "      <td>0</td>\n",
       "      <td>0</td>\n",
       "    </tr>\n",
       "    <tr>\n",
       "      <th>...</th>\n",
       "      <td>...</td>\n",
       "      <td>...</td>\n",
       "      <td>...</td>\n",
       "      <td>...</td>\n",
       "      <td>...</td>\n",
       "      <td>...</td>\n",
       "      <td>...</td>\n",
       "      <td>...</td>\n",
       "    </tr>\n",
       "    <tr>\n",
       "      <th>2391</th>\n",
       "      <td>85세 이상</td>\n",
       "      <td>2017</td>\n",
       "      <td>자궁경부암</td>\n",
       "      <td>여자</td>\n",
       "      <td>135881</td>\n",
       "      <td>6977</td>\n",
       "      <td>135881</td>\n",
       "      <td>6977</td>\n",
       "    </tr>\n",
       "    <tr>\n",
       "      <th>2408</th>\n",
       "      <td>85세 이상</td>\n",
       "      <td>2018</td>\n",
       "      <td>자궁경부암</td>\n",
       "      <td>남자</td>\n",
       "      <td>-</td>\n",
       "      <td>-</td>\n",
       "      <td>0</td>\n",
       "      <td>0</td>\n",
       "    </tr>\n",
       "    <tr>\n",
       "      <th>2409</th>\n",
       "      <td>85세 이상</td>\n",
       "      <td>2018</td>\n",
       "      <td>자궁경부암</td>\n",
       "      <td>여자</td>\n",
       "      <td>150812</td>\n",
       "      <td>7694</td>\n",
       "      <td>150812</td>\n",
       "      <td>7694</td>\n",
       "    </tr>\n",
       "    <tr>\n",
       "      <th>2426</th>\n",
       "      <td>85세 이상</td>\n",
       "      <td>2019</td>\n",
       "      <td>자궁경부암</td>\n",
       "      <td>남자</td>\n",
       "      <td>-</td>\n",
       "      <td>-</td>\n",
       "      <td>0</td>\n",
       "      <td>0</td>\n",
       "    </tr>\n",
       "    <tr>\n",
       "      <th>2427</th>\n",
       "      <td>85세 이상</td>\n",
       "      <td>2019</td>\n",
       "      <td>자궁경부암</td>\n",
       "      <td>여자</td>\n",
       "      <td>165503</td>\n",
       "      <td>9123</td>\n",
       "      <td>165503</td>\n",
       "      <td>9123</td>\n",
       "    </tr>\n",
       "  </tbody>\n",
       "</table>\n",
       "<p>244 rows × 8 columns</p>\n",
       "</div>"
      ],
      "text/plain": [
       "           연령별    시점   암검진별  성별 대상인원 (명) 수검인원 (명)    대상인원    수검인원\n",
       "194   20 ~ 24세  2016  자궁경부암  남자        -        -       0       0\n",
       "195   20 ~ 24세  2016  자궁경부암  여자   736010   138829  736010  138829\n",
       "212   20 ~ 24세  2017  자궁경부암  남자        -        -       0       0\n",
       "213   20 ~ 24세  2017  자궁경부암  여자   746162   166205  746162  166205\n",
       "230   20 ~ 24세  2018  자궁경부암  남자        -        -       0       0\n",
       "...        ...   ...    ...  ..      ...      ...     ...     ...\n",
       "2391    85세 이상  2017  자궁경부암  여자   135881     6977  135881    6977\n",
       "2408    85세 이상  2018  자궁경부암  남자        -        -       0       0\n",
       "2409    85세 이상  2018  자궁경부암  여자   150812     7694  150812    7694\n",
       "2426    85세 이상  2019  자궁경부암  남자        -        -       0       0\n",
       "2427    85세 이상  2019  자궁경부암  여자   165503     9123  165503    9123\n",
       "\n",
       "[244 rows x 8 columns]"
      ]
     },
     "execution_count": 96,
     "metadata": {},
     "output_type": "execute_result"
    }
   ],
   "source": [
    "# 자궁경부암\n",
    "df[df[\"암검진별\"] == \"자궁경부암\"]"
   ]
  },
  {
   "cell_type": "markdown",
   "id": "43dbf6e4",
   "metadata": {},
   "source": [
    "## 파생변수 만들기\n",
    "\n",
    "<img src = 'https://pandas.pydata.org/docs/_images/05_newcolumn_1.svg' width=\"600\">"
   ]
  },
  {
   "cell_type": "code",
   "execution_count": 98,
   "id": "edfe060a",
   "metadata": {},
   "outputs": [
    {
     "data": {
      "text/plain": [
       "array(['20 ~ 24세', '25 ~ 29세', '30 ~ 34세', '35 ~ 39세', '40 ~ 44세',\n",
       "       '45 ~ 49세', '50 ~ 54세', '55 ~ 59세', '60 ~ 64세', '65 ~ 69세',\n",
       "       '70 ~ 74세', '75 ~ 79세', '80 ~ 84세', '85세 이상'], dtype=object)"
      ]
     },
     "execution_count": 98,
     "metadata": {},
     "output_type": "execute_result"
    }
   ],
   "source": [
    "# 연령별 unique 값을 확인합니다.\n",
    "df[\"연령별\"].unique()"
   ]
  },
  {
   "cell_type": "code",
   "execution_count": 102,
   "id": "650e6bb3",
   "metadata": {},
   "outputs": [
    {
     "data": {
      "text/plain": [
       "182     20대\n",
       "183     20대\n",
       "185     20대\n",
       "186     20대\n",
       "188     20대\n",
       "       ... \n",
       "2421    80대\n",
       "2423    80대\n",
       "2424    80대\n",
       "2426    80대\n",
       "2427    80대\n",
       "Name: 연령별, Length: 1238, dtype: object"
      ]
     },
     "execution_count": 102,
     "metadata": {},
     "output_type": "execute_result"
    }
   ],
   "source": [
    "df[\"연령별\"].str[0] + \"0대\""
   ]
  },
  {
   "cell_type": "code",
   "execution_count": null,
   "id": "206f969e",
   "metadata": {},
   "outputs": [],
   "source": [
    "\"20대\"\n",
    "\"30대\""
   ]
  },
  {
   "cell_type": "code",
   "execution_count": 104,
   "id": "841bc73e",
   "metadata": {},
   "outputs": [
    {
     "data": {
      "text/html": [
       "<div>\n",
       "<style scoped>\n",
       "    .dataframe tbody tr th:only-of-type {\n",
       "        vertical-align: middle;\n",
       "    }\n",
       "\n",
       "    .dataframe tbody tr th {\n",
       "        vertical-align: top;\n",
       "    }\n",
       "\n",
       "    .dataframe thead th {\n",
       "        text-align: right;\n",
       "    }\n",
       "</style>\n",
       "<table border=\"1\" class=\"dataframe\">\n",
       "  <thead>\n",
       "    <tr style=\"text-align: right;\">\n",
       "      <th></th>\n",
       "      <th>연령별</th>\n",
       "      <th>시점</th>\n",
       "      <th>암검진별</th>\n",
       "      <th>성별</th>\n",
       "      <th>대상인원 (명)</th>\n",
       "      <th>수검인원 (명)</th>\n",
       "      <th>대상인원</th>\n",
       "      <th>수검인원</th>\n",
       "      <th>연령대</th>\n",
       "    </tr>\n",
       "  </thead>\n",
       "  <tbody>\n",
       "    <tr>\n",
       "      <th>182</th>\n",
       "      <td>20 ~ 24세</td>\n",
       "      <td>2016</td>\n",
       "      <td>위암</td>\n",
       "      <td>남자</td>\n",
       "      <td>-</td>\n",
       "      <td>-</td>\n",
       "      <td>0</td>\n",
       "      <td>0</td>\n",
       "      <td>20대</td>\n",
       "    </tr>\n",
       "    <tr>\n",
       "      <th>183</th>\n",
       "      <td>20 ~ 24세</td>\n",
       "      <td>2016</td>\n",
       "      <td>위암</td>\n",
       "      <td>여자</td>\n",
       "      <td>-</td>\n",
       "      <td>-</td>\n",
       "      <td>0</td>\n",
       "      <td>0</td>\n",
       "      <td>20대</td>\n",
       "    </tr>\n",
       "  </tbody>\n",
       "</table>\n",
       "</div>"
      ],
      "text/plain": [
       "          연령별    시점 암검진별  성별 대상인원 (명) 수검인원 (명)  대상인원  수검인원  연령대\n",
       "182  20 ~ 24세  2016   위암  남자        -        -     0     0  20대\n",
       "183  20 ~ 24세  2016   위암  여자        -        -     0     0  20대"
      ]
     },
     "execution_count": 104,
     "metadata": {},
     "output_type": "execute_result"
    }
   ],
   "source": [
    "# 연령대 파생변수를 생성합니다.\n",
    "df[\"연령대\"] = df[\"연령별\"].str[0] + \"0대\"\n",
    "df.head(2)"
   ]
  },
  {
   "cell_type": "markdown",
   "id": "cae4071e",
   "metadata": {},
   "source": [
    "## 여러 조건 검색하기\n",
    "* and => &\n",
    "* or => | "
   ]
  },
  {
   "cell_type": "code",
   "execution_count": 108,
   "id": "d29c42bd",
   "metadata": {
    "id": "0ee537ab",
    "outputId": "cb0e54b9-cbeb-404e-caf1-85b105a6dcb8"
   },
   "outputs": [
    {
     "data": {
      "text/html": [
       "<div>\n",
       "<style scoped>\n",
       "    .dataframe tbody tr th:only-of-type {\n",
       "        vertical-align: middle;\n",
       "    }\n",
       "\n",
       "    .dataframe tbody tr th {\n",
       "        vertical-align: top;\n",
       "    }\n",
       "\n",
       "    .dataframe thead th {\n",
       "        text-align: right;\n",
       "    }\n",
       "</style>\n",
       "<table border=\"1\" class=\"dataframe\">\n",
       "  <thead>\n",
       "    <tr style=\"text-align: right;\">\n",
       "      <th></th>\n",
       "      <th>연령별</th>\n",
       "      <th>시점</th>\n",
       "      <th>암검진별</th>\n",
       "      <th>성별</th>\n",
       "      <th>대상인원 (명)</th>\n",
       "      <th>수검인원 (명)</th>\n",
       "      <th>대상인원</th>\n",
       "      <th>수검인원</th>\n",
       "      <th>연령대</th>\n",
       "    </tr>\n",
       "  </thead>\n",
       "  <tbody>\n",
       "    <tr>\n",
       "      <th>332</th>\n",
       "      <td>30 ~ 34세</td>\n",
       "      <td>2010</td>\n",
       "      <td>간암</td>\n",
       "      <td>남자</td>\n",
       "      <td>-</td>\n",
       "      <td>-</td>\n",
       "      <td>0</td>\n",
       "      <td>0</td>\n",
       "      <td>30대</td>\n",
       "    </tr>\n",
       "    <tr>\n",
       "      <th>333</th>\n",
       "      <td>30 ~ 34세</td>\n",
       "      <td>2010</td>\n",
       "      <td>간암</td>\n",
       "      <td>여자</td>\n",
       "      <td>-</td>\n",
       "      <td>-</td>\n",
       "      <td>0</td>\n",
       "      <td>0</td>\n",
       "      <td>30대</td>\n",
       "    </tr>\n",
       "    <tr>\n",
       "      <th>498</th>\n",
       "      <td>35 ~ 39세</td>\n",
       "      <td>2010</td>\n",
       "      <td>간암</td>\n",
       "      <td>남자</td>\n",
       "      <td>-</td>\n",
       "      <td>-</td>\n",
       "      <td>0</td>\n",
       "      <td>0</td>\n",
       "      <td>30대</td>\n",
       "    </tr>\n",
       "    <tr>\n",
       "      <th>499</th>\n",
       "      <td>35 ~ 39세</td>\n",
       "      <td>2010</td>\n",
       "      <td>간암</td>\n",
       "      <td>여자</td>\n",
       "      <td>-</td>\n",
       "      <td>-</td>\n",
       "      <td>0</td>\n",
       "      <td>0</td>\n",
       "      <td>30대</td>\n",
       "    </tr>\n",
       "    <tr>\n",
       "      <th>664</th>\n",
       "      <td>40 ~ 44세</td>\n",
       "      <td>2010</td>\n",
       "      <td>간암</td>\n",
       "      <td>남자</td>\n",
       "      <td>77087</td>\n",
       "      <td>29894</td>\n",
       "      <td>77087</td>\n",
       "      <td>29894</td>\n",
       "      <td>40대</td>\n",
       "    </tr>\n",
       "    <tr>\n",
       "      <th>665</th>\n",
       "      <td>40 ~ 44세</td>\n",
       "      <td>2010</td>\n",
       "      <td>간암</td>\n",
       "      <td>여자</td>\n",
       "      <td>29728</td>\n",
       "      <td>15744</td>\n",
       "      <td>29728</td>\n",
       "      <td>15744</td>\n",
       "      <td>40대</td>\n",
       "    </tr>\n",
       "    <tr>\n",
       "      <th>839</th>\n",
       "      <td>45 ~ 49세</td>\n",
       "      <td>2010</td>\n",
       "      <td>간암</td>\n",
       "      <td>남자</td>\n",
       "      <td>74462</td>\n",
       "      <td>27359</td>\n",
       "      <td>74462</td>\n",
       "      <td>27359</td>\n",
       "      <td>40대</td>\n",
       "    </tr>\n",
       "    <tr>\n",
       "      <th>840</th>\n",
       "      <td>45 ~ 49세</td>\n",
       "      <td>2010</td>\n",
       "      <td>간암</td>\n",
       "      <td>여자</td>\n",
       "      <td>24101</td>\n",
       "      <td>12453</td>\n",
       "      <td>24101</td>\n",
       "      <td>12453</td>\n",
       "      <td>40대</td>\n",
       "    </tr>\n",
       "    <tr>\n",
       "      <th>1014</th>\n",
       "      <td>50 ~ 54세</td>\n",
       "      <td>2010</td>\n",
       "      <td>간암</td>\n",
       "      <td>남자</td>\n",
       "      <td>86437</td>\n",
       "      <td>35548</td>\n",
       "      <td>86437</td>\n",
       "      <td>35548</td>\n",
       "      <td>50대</td>\n",
       "    </tr>\n",
       "    <tr>\n",
       "      <th>1015</th>\n",
       "      <td>50 ~ 54세</td>\n",
       "      <td>2010</td>\n",
       "      <td>간암</td>\n",
       "      <td>여자</td>\n",
       "      <td>36843</td>\n",
       "      <td>20854</td>\n",
       "      <td>36843</td>\n",
       "      <td>20854</td>\n",
       "      <td>50대</td>\n",
       "    </tr>\n",
       "    <tr>\n",
       "      <th>1192</th>\n",
       "      <td>55 ~ 59세</td>\n",
       "      <td>2010</td>\n",
       "      <td>간암</td>\n",
       "      <td>남자</td>\n",
       "      <td>53652</td>\n",
       "      <td>25142</td>\n",
       "      <td>53652</td>\n",
       "      <td>25142</td>\n",
       "      <td>50대</td>\n",
       "    </tr>\n",
       "    <tr>\n",
       "      <th>1193</th>\n",
       "      <td>55 ~ 59세</td>\n",
       "      <td>2010</td>\n",
       "      <td>간암</td>\n",
       "      <td>여자</td>\n",
       "      <td>24332</td>\n",
       "      <td>14572</td>\n",
       "      <td>24332</td>\n",
       "      <td>14572</td>\n",
       "      <td>50대</td>\n",
       "    </tr>\n",
       "    <tr>\n",
       "      <th>1370</th>\n",
       "      <td>60 ~ 64세</td>\n",
       "      <td>2010</td>\n",
       "      <td>간암</td>\n",
       "      <td>남자</td>\n",
       "      <td>42675</td>\n",
       "      <td>22934</td>\n",
       "      <td>42675</td>\n",
       "      <td>22934</td>\n",
       "      <td>60대</td>\n",
       "    </tr>\n",
       "    <tr>\n",
       "      <th>1371</th>\n",
       "      <td>60 ~ 64세</td>\n",
       "      <td>2010</td>\n",
       "      <td>간암</td>\n",
       "      <td>여자</td>\n",
       "      <td>24209</td>\n",
       "      <td>14121</td>\n",
       "      <td>24209</td>\n",
       "      <td>14121</td>\n",
       "      <td>60대</td>\n",
       "    </tr>\n",
       "    <tr>\n",
       "      <th>1548</th>\n",
       "      <td>65 ~ 69세</td>\n",
       "      <td>2010</td>\n",
       "      <td>간암</td>\n",
       "      <td>남자</td>\n",
       "      <td>23812</td>\n",
       "      <td>13273</td>\n",
       "      <td>23812</td>\n",
       "      <td>13273</td>\n",
       "      <td>60대</td>\n",
       "    </tr>\n",
       "    <tr>\n",
       "      <th>1549</th>\n",
       "      <td>65 ~ 69세</td>\n",
       "      <td>2010</td>\n",
       "      <td>간암</td>\n",
       "      <td>여자</td>\n",
       "      <td>13693</td>\n",
       "      <td>7615</td>\n",
       "      <td>13693</td>\n",
       "      <td>7615</td>\n",
       "      <td>60대</td>\n",
       "    </tr>\n",
       "    <tr>\n",
       "      <th>1726</th>\n",
       "      <td>70 ~ 74세</td>\n",
       "      <td>2010</td>\n",
       "      <td>간암</td>\n",
       "      <td>남자</td>\n",
       "      <td>19275</td>\n",
       "      <td>9042</td>\n",
       "      <td>19275</td>\n",
       "      <td>9042</td>\n",
       "      <td>70대</td>\n",
       "    </tr>\n",
       "    <tr>\n",
       "      <th>1727</th>\n",
       "      <td>70 ~ 74세</td>\n",
       "      <td>2010</td>\n",
       "      <td>간암</td>\n",
       "      <td>여자</td>\n",
       "      <td>13105</td>\n",
       "      <td>5706</td>\n",
       "      <td>13105</td>\n",
       "      <td>5706</td>\n",
       "      <td>70대</td>\n",
       "    </tr>\n",
       "    <tr>\n",
       "      <th>1904</th>\n",
       "      <td>75 ~ 79세</td>\n",
       "      <td>2010</td>\n",
       "      <td>간암</td>\n",
       "      <td>남자</td>\n",
       "      <td>6525</td>\n",
       "      <td>2352</td>\n",
       "      <td>6525</td>\n",
       "      <td>2352</td>\n",
       "      <td>70대</td>\n",
       "    </tr>\n",
       "    <tr>\n",
       "      <th>1905</th>\n",
       "      <td>75 ~ 79세</td>\n",
       "      <td>2010</td>\n",
       "      <td>간암</td>\n",
       "      <td>여자</td>\n",
       "      <td>6089</td>\n",
       "      <td>1871</td>\n",
       "      <td>6089</td>\n",
       "      <td>1871</td>\n",
       "      <td>70대</td>\n",
       "    </tr>\n",
       "    <tr>\n",
       "      <th>2082</th>\n",
       "      <td>80 ~ 84세</td>\n",
       "      <td>2010</td>\n",
       "      <td>간암</td>\n",
       "      <td>남자</td>\n",
       "      <td>2814</td>\n",
       "      <td>737</td>\n",
       "      <td>2814</td>\n",
       "      <td>737</td>\n",
       "      <td>80대</td>\n",
       "    </tr>\n",
       "    <tr>\n",
       "      <th>2083</th>\n",
       "      <td>80 ~ 84세</td>\n",
       "      <td>2010</td>\n",
       "      <td>간암</td>\n",
       "      <td>여자</td>\n",
       "      <td>2974</td>\n",
       "      <td>577</td>\n",
       "      <td>2974</td>\n",
       "      <td>577</td>\n",
       "      <td>80대</td>\n",
       "    </tr>\n",
       "    <tr>\n",
       "      <th>2260</th>\n",
       "      <td>85세 이상</td>\n",
       "      <td>2010</td>\n",
       "      <td>간암</td>\n",
       "      <td>남자</td>\n",
       "      <td>773</td>\n",
       "      <td>136</td>\n",
       "      <td>773</td>\n",
       "      <td>136</td>\n",
       "      <td>80대</td>\n",
       "    </tr>\n",
       "    <tr>\n",
       "      <th>2261</th>\n",
       "      <td>85세 이상</td>\n",
       "      <td>2010</td>\n",
       "      <td>간암</td>\n",
       "      <td>여자</td>\n",
       "      <td>1226</td>\n",
       "      <td>69</td>\n",
       "      <td>1226</td>\n",
       "      <td>69</td>\n",
       "      <td>80대</td>\n",
       "    </tr>\n",
       "  </tbody>\n",
       "</table>\n",
       "</div>"
      ],
      "text/plain": [
       "           연령별    시점 암검진별  성별 대상인원 (명) 수검인원 (명)   대상인원   수검인원  연령대\n",
       "332   30 ~ 34세  2010   간암  남자        -        -      0      0  30대\n",
       "333   30 ~ 34세  2010   간암  여자        -        -      0      0  30대\n",
       "498   35 ~ 39세  2010   간암  남자        -        -      0      0  30대\n",
       "499   35 ~ 39세  2010   간암  여자        -        -      0      0  30대\n",
       "664   40 ~ 44세  2010   간암  남자    77087    29894  77087  29894  40대\n",
       "665   40 ~ 44세  2010   간암  여자    29728    15744  29728  15744  40대\n",
       "839   45 ~ 49세  2010   간암  남자    74462    27359  74462  27359  40대\n",
       "840   45 ~ 49세  2010   간암  여자    24101    12453  24101  12453  40대\n",
       "1014  50 ~ 54세  2010   간암  남자    86437    35548  86437  35548  50대\n",
       "1015  50 ~ 54세  2010   간암  여자    36843    20854  36843  20854  50대\n",
       "1192  55 ~ 59세  2010   간암  남자    53652    25142  53652  25142  50대\n",
       "1193  55 ~ 59세  2010   간암  여자    24332    14572  24332  14572  50대\n",
       "1370  60 ~ 64세  2010   간암  남자    42675    22934  42675  22934  60대\n",
       "1371  60 ~ 64세  2010   간암  여자    24209    14121  24209  14121  60대\n",
       "1548  65 ~ 69세  2010   간암  남자    23812    13273  23812  13273  60대\n",
       "1549  65 ~ 69세  2010   간암  여자    13693     7615  13693   7615  60대\n",
       "1726  70 ~ 74세  2010   간암  남자    19275     9042  19275   9042  70대\n",
       "1727  70 ~ 74세  2010   간암  여자    13105     5706  13105   5706  70대\n",
       "1904  75 ~ 79세  2010   간암  남자     6525     2352   6525   2352  70대\n",
       "1905  75 ~ 79세  2010   간암  여자     6089     1871   6089   1871  70대\n",
       "2082  80 ~ 84세  2010   간암  남자     2814      737   2814    737  80대\n",
       "2083  80 ~ 84세  2010   간암  여자     2974      577   2974    577  80대\n",
       "2260    85세 이상  2010   간암  남자      773      136    773    136  80대\n",
       "2261    85세 이상  2010   간암  여자     1226       69   1226     69  80대"
      ]
     },
     "execution_count": 108,
     "metadata": {},
     "output_type": "execute_result"
    }
   ],
   "source": [
    "# 2010년에 간암에 관한 데이터를 확인해 봅니다.\n",
    "# .loc[행, 열]\n",
    "# .loc[조건식, 열]\n",
    "# df.loc[(df['시점'] == 2010) & (df['암검진별'] == '간암')] \n",
    "# 시점의 type은 int64이기 때문에 int형식으로 지정해 주어야 합니다.\n",
    "# 시점을 \"2010\" 과 같이 문자열로 지정하면 원하는 데이터를 얻을 수 없습니다.\n",
    "# year\n",
    "# cancer\n",
    "\n",
    "df[(df[\"시점\"] == 2010) & (df[\"암검진별\"] == \"간암\")]"
   ]
  },
  {
   "cell_type": "markdown",
   "id": "6f4c1e7d",
   "metadata": {
    "id": "c9553453"
   },
   "source": [
    "## 사용하지 않는 컬럼 제거"
   ]
  },
  {
   "cell_type": "code",
   "execution_count": 112,
   "id": "ddf018ec",
   "metadata": {
    "id": "b39078a0",
    "outputId": "5830ef72-80a5-41ba-fa12-5eef533f5942",
    "scrolled": false
   },
   "outputs": [
    {
     "data": {
      "text/html": [
       "<div>\n",
       "<style scoped>\n",
       "    .dataframe tbody tr th:only-of-type {\n",
       "        vertical-align: middle;\n",
       "    }\n",
       "\n",
       "    .dataframe tbody tr th {\n",
       "        vertical-align: top;\n",
       "    }\n",
       "\n",
       "    .dataframe thead th {\n",
       "        text-align: right;\n",
       "    }\n",
       "</style>\n",
       "<table border=\"1\" class=\"dataframe\">\n",
       "  <thead>\n",
       "    <tr style=\"text-align: right;\">\n",
       "      <th></th>\n",
       "      <th>연령별</th>\n",
       "      <th>시점</th>\n",
       "      <th>암검진별</th>\n",
       "      <th>성별</th>\n",
       "      <th>대상인원</th>\n",
       "      <th>수검인원</th>\n",
       "      <th>연령대</th>\n",
       "    </tr>\n",
       "  </thead>\n",
       "  <tbody>\n",
       "    <tr>\n",
       "      <th>182</th>\n",
       "      <td>20 ~ 24세</td>\n",
       "      <td>2016</td>\n",
       "      <td>위암</td>\n",
       "      <td>남자</td>\n",
       "      <td>0</td>\n",
       "      <td>0</td>\n",
       "      <td>20대</td>\n",
       "    </tr>\n",
       "    <tr>\n",
       "      <th>183</th>\n",
       "      <td>20 ~ 24세</td>\n",
       "      <td>2016</td>\n",
       "      <td>위암</td>\n",
       "      <td>여자</td>\n",
       "      <td>0</td>\n",
       "      <td>0</td>\n",
       "      <td>20대</td>\n",
       "    </tr>\n",
       "    <tr>\n",
       "      <th>185</th>\n",
       "      <td>20 ~ 24세</td>\n",
       "      <td>2016</td>\n",
       "      <td>대장암</td>\n",
       "      <td>남자</td>\n",
       "      <td>0</td>\n",
       "      <td>0</td>\n",
       "      <td>20대</td>\n",
       "    </tr>\n",
       "    <tr>\n",
       "      <th>186</th>\n",
       "      <td>20 ~ 24세</td>\n",
       "      <td>2016</td>\n",
       "      <td>대장암</td>\n",
       "      <td>여자</td>\n",
       "      <td>0</td>\n",
       "      <td>0</td>\n",
       "      <td>20대</td>\n",
       "    </tr>\n",
       "    <tr>\n",
       "      <th>188</th>\n",
       "      <td>20 ~ 24세</td>\n",
       "      <td>2016</td>\n",
       "      <td>간암</td>\n",
       "      <td>남자</td>\n",
       "      <td>0</td>\n",
       "      <td>0</td>\n",
       "      <td>20대</td>\n",
       "    </tr>\n",
       "    <tr>\n",
       "      <th>...</th>\n",
       "      <td>...</td>\n",
       "      <td>...</td>\n",
       "      <td>...</td>\n",
       "      <td>...</td>\n",
       "      <td>...</td>\n",
       "      <td>...</td>\n",
       "      <td>...</td>\n",
       "    </tr>\n",
       "    <tr>\n",
       "      <th>2421</th>\n",
       "      <td>85세 이상</td>\n",
       "      <td>2019</td>\n",
       "      <td>간암</td>\n",
       "      <td>여자</td>\n",
       "      <td>3592</td>\n",
       "      <td>914</td>\n",
       "      <td>80대</td>\n",
       "    </tr>\n",
       "    <tr>\n",
       "      <th>2423</th>\n",
       "      <td>85세 이상</td>\n",
       "      <td>2019</td>\n",
       "      <td>유방암</td>\n",
       "      <td>남자</td>\n",
       "      <td>0</td>\n",
       "      <td>0</td>\n",
       "      <td>80대</td>\n",
       "    </tr>\n",
       "    <tr>\n",
       "      <th>2424</th>\n",
       "      <td>85세 이상</td>\n",
       "      <td>2019</td>\n",
       "      <td>유방암</td>\n",
       "      <td>여자</td>\n",
       "      <td>171274</td>\n",
       "      <td>22476</td>\n",
       "      <td>80대</td>\n",
       "    </tr>\n",
       "    <tr>\n",
       "      <th>2426</th>\n",
       "      <td>85세 이상</td>\n",
       "      <td>2019</td>\n",
       "      <td>자궁경부암</td>\n",
       "      <td>남자</td>\n",
       "      <td>0</td>\n",
       "      <td>0</td>\n",
       "      <td>80대</td>\n",
       "    </tr>\n",
       "    <tr>\n",
       "      <th>2427</th>\n",
       "      <td>85세 이상</td>\n",
       "      <td>2019</td>\n",
       "      <td>자궁경부암</td>\n",
       "      <td>여자</td>\n",
       "      <td>165503</td>\n",
       "      <td>9123</td>\n",
       "      <td>80대</td>\n",
       "    </tr>\n",
       "  </tbody>\n",
       "</table>\n",
       "<p>1238 rows × 7 columns</p>\n",
       "</div>"
      ],
      "text/plain": [
       "           연령별    시점   암검진별  성별    대상인원   수검인원  연령대\n",
       "182   20 ~ 24세  2016     위암  남자       0      0  20대\n",
       "183   20 ~ 24세  2016     위암  여자       0      0  20대\n",
       "185   20 ~ 24세  2016    대장암  남자       0      0  20대\n",
       "186   20 ~ 24세  2016    대장암  여자       0      0  20대\n",
       "188   20 ~ 24세  2016     간암  남자       0      0  20대\n",
       "...        ...   ...    ...  ..     ...    ...  ...\n",
       "2421    85세 이상  2019     간암  여자    3592    914  80대\n",
       "2423    85세 이상  2019    유방암  남자       0      0  80대\n",
       "2424    85세 이상  2019    유방암  여자  171274  22476  80대\n",
       "2426    85세 이상  2019  자궁경부암  남자       0      0  80대\n",
       "2427    85세 이상  2019  자궁경부암  여자  165503   9123  80대\n",
       "\n",
       "[1238 rows x 7 columns]"
      ]
     },
     "execution_count": 112,
     "metadata": {},
     "output_type": "execute_result"
    }
   ],
   "source": [
    "# \"대상인원 (명)\", \"수검인원 (명)\" 은 사용하지 않을 예정이라 제거합니다.\n",
    "df = df.drop(columns=[\"대상인원 (명)\", \"수검인원 (명)\"])\n",
    "df"
   ]
  },
  {
   "cell_type": "markdown",
   "id": "4eb200f7",
   "metadata": {
    "id": "688dea84"
   },
   "source": [
    "## 데이터 저장하기\n",
    "\n",
    "<img src = 'https://pandas.pydata.org/docs/_images/02_io_readwrite.svg'>"
   ]
  },
  {
   "cell_type": "code",
   "execution_count": 114,
   "id": "2cc659b4",
   "metadata": {
    "id": "c4e636ab"
   },
   "outputs": [],
   "source": [
    "# 데이터를 저장할 때 index를 False로 저장하면 index번호는 같이 저장되지 않습니다.\n",
    "# DataFrame은 excel형식으로도 저장이 가능합니다.\n",
    "# df.to_excel('kosis-cancer.xlsx', index=False)\n",
    "df.to_csv(\"kosis-cancer.csv\", index=False)"
   ]
  },
  {
   "cell_type": "code",
   "execution_count": 115,
   "id": "a72e1bd0",
   "metadata": {
    "id": "0d1e867a"
   },
   "outputs": [
    {
     "data": {
      "text/html": [
       "<div>\n",
       "<style scoped>\n",
       "    .dataframe tbody tr th:only-of-type {\n",
       "        vertical-align: middle;\n",
       "    }\n",
       "\n",
       "    .dataframe tbody tr th {\n",
       "        vertical-align: top;\n",
       "    }\n",
       "\n",
       "    .dataframe thead th {\n",
       "        text-align: right;\n",
       "    }\n",
       "</style>\n",
       "<table border=\"1\" class=\"dataframe\">\n",
       "  <thead>\n",
       "    <tr style=\"text-align: right;\">\n",
       "      <th></th>\n",
       "      <th>연령별</th>\n",
       "      <th>시점</th>\n",
       "      <th>암검진별</th>\n",
       "      <th>성별</th>\n",
       "      <th>대상인원</th>\n",
       "      <th>수검인원</th>\n",
       "      <th>연령대</th>\n",
       "    </tr>\n",
       "  </thead>\n",
       "  <tbody>\n",
       "    <tr>\n",
       "      <th>0</th>\n",
       "      <td>20 ~ 24세</td>\n",
       "      <td>2016</td>\n",
       "      <td>위암</td>\n",
       "      <td>남자</td>\n",
       "      <td>0</td>\n",
       "      <td>0</td>\n",
       "      <td>20대</td>\n",
       "    </tr>\n",
       "    <tr>\n",
       "      <th>1</th>\n",
       "      <td>20 ~ 24세</td>\n",
       "      <td>2016</td>\n",
       "      <td>위암</td>\n",
       "      <td>여자</td>\n",
       "      <td>0</td>\n",
       "      <td>0</td>\n",
       "      <td>20대</td>\n",
       "    </tr>\n",
       "    <tr>\n",
       "      <th>2</th>\n",
       "      <td>20 ~ 24세</td>\n",
       "      <td>2016</td>\n",
       "      <td>대장암</td>\n",
       "      <td>남자</td>\n",
       "      <td>0</td>\n",
       "      <td>0</td>\n",
       "      <td>20대</td>\n",
       "    </tr>\n",
       "    <tr>\n",
       "      <th>3</th>\n",
       "      <td>20 ~ 24세</td>\n",
       "      <td>2016</td>\n",
       "      <td>대장암</td>\n",
       "      <td>여자</td>\n",
       "      <td>0</td>\n",
       "      <td>0</td>\n",
       "      <td>20대</td>\n",
       "    </tr>\n",
       "    <tr>\n",
       "      <th>4</th>\n",
       "      <td>20 ~ 24세</td>\n",
       "      <td>2016</td>\n",
       "      <td>간암</td>\n",
       "      <td>남자</td>\n",
       "      <td>0</td>\n",
       "      <td>0</td>\n",
       "      <td>20대</td>\n",
       "    </tr>\n",
       "    <tr>\n",
       "      <th>...</th>\n",
       "      <td>...</td>\n",
       "      <td>...</td>\n",
       "      <td>...</td>\n",
       "      <td>...</td>\n",
       "      <td>...</td>\n",
       "      <td>...</td>\n",
       "      <td>...</td>\n",
       "    </tr>\n",
       "    <tr>\n",
       "      <th>1233</th>\n",
       "      <td>85세 이상</td>\n",
       "      <td>2019</td>\n",
       "      <td>간암</td>\n",
       "      <td>여자</td>\n",
       "      <td>3592</td>\n",
       "      <td>914</td>\n",
       "      <td>80대</td>\n",
       "    </tr>\n",
       "    <tr>\n",
       "      <th>1234</th>\n",
       "      <td>85세 이상</td>\n",
       "      <td>2019</td>\n",
       "      <td>유방암</td>\n",
       "      <td>남자</td>\n",
       "      <td>0</td>\n",
       "      <td>0</td>\n",
       "      <td>80대</td>\n",
       "    </tr>\n",
       "    <tr>\n",
       "      <th>1235</th>\n",
       "      <td>85세 이상</td>\n",
       "      <td>2019</td>\n",
       "      <td>유방암</td>\n",
       "      <td>여자</td>\n",
       "      <td>171274</td>\n",
       "      <td>22476</td>\n",
       "      <td>80대</td>\n",
       "    </tr>\n",
       "    <tr>\n",
       "      <th>1236</th>\n",
       "      <td>85세 이상</td>\n",
       "      <td>2019</td>\n",
       "      <td>자궁경부암</td>\n",
       "      <td>남자</td>\n",
       "      <td>0</td>\n",
       "      <td>0</td>\n",
       "      <td>80대</td>\n",
       "    </tr>\n",
       "    <tr>\n",
       "      <th>1237</th>\n",
       "      <td>85세 이상</td>\n",
       "      <td>2019</td>\n",
       "      <td>자궁경부암</td>\n",
       "      <td>여자</td>\n",
       "      <td>165503</td>\n",
       "      <td>9123</td>\n",
       "      <td>80대</td>\n",
       "    </tr>\n",
       "  </tbody>\n",
       "</table>\n",
       "<p>1238 rows × 7 columns</p>\n",
       "</div>"
      ],
      "text/plain": [
       "           연령별    시점   암검진별  성별    대상인원   수검인원  연령대\n",
       "0     20 ~ 24세  2016     위암  남자       0      0  20대\n",
       "1     20 ~ 24세  2016     위암  여자       0      0  20대\n",
       "2     20 ~ 24세  2016    대장암  남자       0      0  20대\n",
       "3     20 ~ 24세  2016    대장암  여자       0      0  20대\n",
       "4     20 ~ 24세  2016     간암  남자       0      0  20대\n",
       "...        ...   ...    ...  ..     ...    ...  ...\n",
       "1233    85세 이상  2019     간암  여자    3592    914  80대\n",
       "1234    85세 이상  2019    유방암  남자       0      0  80대\n",
       "1235    85세 이상  2019    유방암  여자  171274  22476  80대\n",
       "1236    85세 이상  2019  자궁경부암  남자       0      0  80대\n",
       "1237    85세 이상  2019  자궁경부암  여자  165503   9123  80대\n",
       "\n",
       "[1238 rows x 7 columns]"
      ]
     },
     "execution_count": 115,
     "metadata": {},
     "output_type": "execute_result"
    }
   ],
   "source": [
    "pd.read_csv(\"kosis-cancer.csv\")"
   ]
  },
  {
   "cell_type": "code",
   "execution_count": null,
   "id": "cb7dc648",
   "metadata": {
    "id": "46544fa3"
   },
   "outputs": [],
   "source": []
  }
 ],
 "metadata": {
  "colab": {
   "name": "healthCare_12_31.ipynb",
   "provenance": [],
   "toc_visible": true
  },
  "kernelspec": {
   "display_name": "Python 3 (ipykernel)",
   "language": "python",
   "name": "python3"
  },
  "language_info": {
   "codemirror_mode": {
    "name": "ipython",
    "version": 3
   },
   "file_extension": ".py",
   "mimetype": "text/x-python",
   "name": "python",
   "nbconvert_exporter": "python",
   "pygments_lexer": "ipython3",
   "version": "3.7.6"
  },
  "toc": {
   "base_numbering": 1,
   "nav_menu": {},
   "number_sections": true,
   "sideBar": true,
   "skip_h1_title": false,
   "title_cell": "Table of Contents",
   "title_sidebar": "Contents",
   "toc_cell": false,
   "toc_position": {},
   "toc_section_display": true,
   "toc_window_display": true
  },
  "varInspector": {
   "cols": {
    "lenName": 16,
    "lenType": 16,
    "lenVar": 40
   },
   "kernels_config": {
    "python": {
     "delete_cmd_postfix": "",
     "delete_cmd_prefix": "del ",
     "library": "var_list.py",
     "varRefreshCmd": "print(var_dic_list())"
    },
    "r": {
     "delete_cmd_postfix": ") ",
     "delete_cmd_prefix": "rm(",
     "library": "var_list.r",
     "varRefreshCmd": "cat(var_dic_list()) "
    }
   },
   "types_to_exclude": [
    "module",
    "function",
    "builtin_function_or_method",
    "instance",
    "_Feature"
   ],
   "window_display": false
  }
 },
 "nbformat": 4,
 "nbformat_minor": 5
}
