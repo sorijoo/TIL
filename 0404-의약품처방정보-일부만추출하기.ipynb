{
 "cells": [
  {
   "cell_type": "markdown",
   "metadata": {
    "id": "92qFsVay0Kmz"
   },
   "source": [
    "## 의약품 처방정보\n",
    "* https://www.data.go.kr/data/15007117/fileData.do\n",
    "\n",
    "* 의약품처방정보는 국민건강보험 가입자 중 의약품처방이력이 있는 각 연도별 수진자 100만 명에 대한 기본정보(성, 연령대, 시도코드 등)와 의약품처방전별 개별 의약품에 대한 처방내역(요양개시일자, 1회투약량, 1일투약량, 총투여일수 등)으로 구성된 개방데이터입니다.\n",
    "\n",
    "* <img src=\"https://i.imgur.com/hsrpJp4.png\">\n",
    "\n",
    "* 약품일반성분명코드\n",
    "* http://www.hira.or.kr/rf/medicine/getHistoryList.do?pgmid=HIRAA030035020000\n",
    "\n",
    "* 주성분코드부여방법\n",
    "* https://www.health.kr/drug_info/basedrug/main_ingredient.html\n",
    "\n",
    "\n",
    "## 데이터 샘플링\n",
    "* 원본 데이터는 매우 큽니다.\n",
    "* 컴퓨터 개인 사양에 따라 데이터 불러오기가 되지 않을 수 있습니다. \n",
    "* 보통 메모리 8기가 정도를 사용하고 있다면 다른 프로그램에서 4G를 사용하고 있다고 가정할 때 2~3G의 데이터를 불러와서 분석할 수 있습니다."
   ]
  },
  {
   "cell_type": "code",
   "execution_count": 1,
   "metadata": {
    "id": "7WxoT1ygFzhD"
   },
   "outputs": [],
   "source": [
    "import numpy as np\n",
    "import pandas as pd"
   ]
  },
  {
   "cell_type": "code",
   "execution_count": 4,
   "metadata": {
    "colab": {
     "base_uri": "https://localhost:8080/",
     "height": 424
    },
    "executionInfo": {
     "elapsed": 25782,
     "status": "ok",
     "timestamp": 1640766065315,
     "user": {
      "displayName": "김진연",
      "photoUrl": "https://lh3.googleusercontent.com/a/default-user=s64",
      "userId": "15053695256072630202"
     },
     "user_tz": -540
    },
    "id": "1HNcNlFmQNad",
    "outputId": "818be111-7d08-465c-92d4-1b140f589bee"
   },
   "outputs": [],
   "source": [
    "raw = pd.read_csv(\"data/HP_T60_2020_3.csv\", encoding=\"cp949\")"
   ]
  },
  {
   "cell_type": "code",
   "execution_count": 8,
   "metadata": {
    "colab": {
     "base_uri": "https://localhost:8080/"
    },
    "executionInfo": {
     "elapsed": 254,
     "status": "ok",
     "timestamp": 1640766094553,
     "user": {
      "displayName": "김진연",
      "photoUrl": "https://lh3.googleusercontent.com/a/default-user=s64",
      "userId": "15053695256072630202"
     },
     "user_tz": -540
    },
    "id": "Sgt_BcQ3RrVD",
    "outputId": "ea8c756d-67e6-4365-c990-68a43877067c"
   },
   "outputs": [],
   "source": [
    "# 가입자 일련번호 의 unique 값 구하기\n",
    "user_list = raw['가입자 일련번호'].unique()"
   ]
  },
  {
   "cell_type": "code",
   "execution_count": 29,
   "metadata": {
    "id": "nFDaG1ZSR7pj"
   },
   "outputs": [],
   "source": [
    "# np.random.choice 를 통해 10000 명 샘플링\n",
    "user_sample = raw['가입자 일련번호'].sample(10000, random_state=42).tolist()"
   ]
  },
  {
   "cell_type": "code",
   "execution_count": 30,
   "metadata": {
    "colab": {
     "base_uri": "https://localhost:8080/",
     "height": 424
    },
    "executionInfo": {
     "elapsed": 1575,
     "status": "ok",
     "timestamp": 1640766276970,
     "user": {
      "displayName": "김진연",
      "photoUrl": "https://lh3.googleusercontent.com/a/default-user=s64",
      "userId": "15053695256072630202"
     },
     "user_tz": -540
    },
    "id": "64AT0sFdSdOH",
    "outputId": "7636cce3-8751-4959-a159-8d368c1b0c33"
   },
   "outputs": [],
   "source": [
    "# isin으로 샘플링한 가입자 일련번호 데이터만 추출하기\n",
    "# df_temp"
   ]
  },
  {
   "cell_type": "markdown",
   "metadata": {},
   "source": [
    "## 샘플링한 데이터 저장"
   ]
  },
  {
   "cell_type": "code",
   "execution_count": 31,
   "metadata": {},
   "outputs": [
    {
     "data": {
      "text/plain": [
       "9660"
      ]
     },
     "execution_count": 31,
     "metadata": {},
     "output_type": "execute_result"
    }
   ],
   "source": [
    "len(set(user_sample))"
   ]
  },
  {
   "cell_type": "code",
   "execution_count": 33,
   "metadata": {},
   "outputs": [],
   "source": [
    "df_temp = raw[raw[\"가입자 일련번호\"].isin(user_sample)].copy()"
   ]
  },
  {
   "cell_type": "code",
   "execution_count": 34,
   "metadata": {},
   "outputs": [
    {
     "data": {
      "text/html": [
       "<div>\n",
       "<style scoped>\n",
       "    .dataframe tbody tr th:only-of-type {\n",
       "        vertical-align: middle;\n",
       "    }\n",
       "\n",
       "    .dataframe tbody tr th {\n",
       "        vertical-align: top;\n",
       "    }\n",
       "\n",
       "    .dataframe thead th {\n",
       "        text-align: right;\n",
       "    }\n",
       "</style>\n",
       "<table border=\"1\" class=\"dataframe\">\n",
       "  <thead>\n",
       "    <tr style=\"text-align: right;\">\n",
       "      <th></th>\n",
       "      <th>기준년도</th>\n",
       "      <th>가입자 일련번호</th>\n",
       "      <th>처방내역일련번호</th>\n",
       "      <th>일련번호</th>\n",
       "      <th>성별코드</th>\n",
       "      <th>연령대코드(5세단위)</th>\n",
       "      <th>시도코드</th>\n",
       "      <th>요양개시일자</th>\n",
       "      <th>약품일반성분명코드</th>\n",
       "      <th>1회 투약량</th>\n",
       "      <th>1일투약량</th>\n",
       "      <th>총투여일수</th>\n",
       "      <th>단가</th>\n",
       "      <th>금액</th>\n",
       "      <th>데이터 공개일자</th>\n",
       "    </tr>\n",
       "  </thead>\n",
       "  <tbody>\n",
       "    <tr>\n",
       "      <td>52</td>\n",
       "      <td>2020</td>\n",
       "      <td>666669</td>\n",
       "      <td>8553063</td>\n",
       "      <td>3</td>\n",
       "      <td>2</td>\n",
       "      <td>9</td>\n",
       "      <td>26</td>\n",
       "      <td>2020-10-11</td>\n",
       "      <td>430102ATB</td>\n",
       "      <td>1.0</td>\n",
       "      <td>2</td>\n",
       "      <td>10</td>\n",
       "      <td>205.0</td>\n",
       "      <td>4100</td>\n",
       "      <td>2021-12-29</td>\n",
       "    </tr>\n",
       "    <tr>\n",
       "      <td>53</td>\n",
       "      <td>2020</td>\n",
       "      <td>666669</td>\n",
       "      <td>8553063</td>\n",
       "      <td>2</td>\n",
       "      <td>2</td>\n",
       "      <td>9</td>\n",
       "      <td>26</td>\n",
       "      <td>2020-10-11</td>\n",
       "      <td>438901ATB</td>\n",
       "      <td>1.0</td>\n",
       "      <td>2</td>\n",
       "      <td>10</td>\n",
       "      <td>70.0</td>\n",
       "      <td>1400</td>\n",
       "      <td>2021-12-29</td>\n",
       "    </tr>\n",
       "    <tr>\n",
       "      <td>54</td>\n",
       "      <td>2020</td>\n",
       "      <td>666669</td>\n",
       "      <td>8553063</td>\n",
       "      <td>4</td>\n",
       "      <td>2</td>\n",
       "      <td>9</td>\n",
       "      <td>26</td>\n",
       "      <td>2020-10-11</td>\n",
       "      <td>374602ATB</td>\n",
       "      <td>1.0</td>\n",
       "      <td>1</td>\n",
       "      <td>10</td>\n",
       "      <td>765.0</td>\n",
       "      <td>7650</td>\n",
       "      <td>2021-12-29</td>\n",
       "    </tr>\n",
       "    <tr>\n",
       "      <td>55</td>\n",
       "      <td>2020</td>\n",
       "      <td>666669</td>\n",
       "      <td>3116013</td>\n",
       "      <td>1</td>\n",
       "      <td>2</td>\n",
       "      <td>9</td>\n",
       "      <td>26</td>\n",
       "      <td>2020-05-02</td>\n",
       "      <td>546600CCM</td>\n",
       "      <td>1.0</td>\n",
       "      <td>1</td>\n",
       "      <td>1</td>\n",
       "      <td>1720.0</td>\n",
       "      <td>1720</td>\n",
       "      <td>2021-12-29</td>\n",
       "    </tr>\n",
       "    <tr>\n",
       "      <td>56</td>\n",
       "      <td>2020</td>\n",
       "      <td>666669</td>\n",
       "      <td>2241712</td>\n",
       "      <td>2</td>\n",
       "      <td>2</td>\n",
       "      <td>9</td>\n",
       "      <td>26</td>\n",
       "      <td>2020-05-30</td>\n",
       "      <td>451202ATE</td>\n",
       "      <td>1.0</td>\n",
       "      <td>2</td>\n",
       "      <td>7</td>\n",
       "      <td>41.0</td>\n",
       "      <td>574</td>\n",
       "      <td>2021-12-29</td>\n",
       "    </tr>\n",
       "    <tr>\n",
       "      <td>...</td>\n",
       "      <td>...</td>\n",
       "      <td>...</td>\n",
       "      <td>...</td>\n",
       "      <td>...</td>\n",
       "      <td>...</td>\n",
       "      <td>...</td>\n",
       "      <td>...</td>\n",
       "      <td>...</td>\n",
       "      <td>...</td>\n",
       "      <td>...</td>\n",
       "      <td>...</td>\n",
       "      <td>...</td>\n",
       "      <td>...</td>\n",
       "      <td>...</td>\n",
       "      <td>...</td>\n",
       "    </tr>\n",
       "    <tr>\n",
       "      <td>10923002</td>\n",
       "      <td>2020</td>\n",
       "      <td>999989</td>\n",
       "      <td>1296609</td>\n",
       "      <td>6</td>\n",
       "      <td>2</td>\n",
       "      <td>16</td>\n",
       "      <td>44</td>\n",
       "      <td>2020-09-08</td>\n",
       "      <td>163801ATB</td>\n",
       "      <td>1.0</td>\n",
       "      <td>1</td>\n",
       "      <td>60</td>\n",
       "      <td>30.0</td>\n",
       "      <td>1800</td>\n",
       "      <td>2021-12-29</td>\n",
       "    </tr>\n",
       "    <tr>\n",
       "      <td>10923003</td>\n",
       "      <td>2020</td>\n",
       "      <td>999989</td>\n",
       "      <td>1296609</td>\n",
       "      <td>5</td>\n",
       "      <td>2</td>\n",
       "      <td>16</td>\n",
       "      <td>44</td>\n",
       "      <td>2020-09-08</td>\n",
       "      <td>454001ATB</td>\n",
       "      <td>1.0</td>\n",
       "      <td>1</td>\n",
       "      <td>60</td>\n",
       "      <td>612.0</td>\n",
       "      <td>36720</td>\n",
       "      <td>2021-12-29</td>\n",
       "    </tr>\n",
       "    <tr>\n",
       "      <td>10923004</td>\n",
       "      <td>2020</td>\n",
       "      <td>999989</td>\n",
       "      <td>1296609</td>\n",
       "      <td>4</td>\n",
       "      <td>2</td>\n",
       "      <td>16</td>\n",
       "      <td>44</td>\n",
       "      <td>2020-09-08</td>\n",
       "      <td>513000ATB</td>\n",
       "      <td>1.0</td>\n",
       "      <td>1</td>\n",
       "      <td>60</td>\n",
       "      <td>190.0</td>\n",
       "      <td>11400</td>\n",
       "      <td>2021-12-29</td>\n",
       "    </tr>\n",
       "    <tr>\n",
       "      <td>10923005</td>\n",
       "      <td>2020</td>\n",
       "      <td>999989</td>\n",
       "      <td>1296609</td>\n",
       "      <td>3</td>\n",
       "      <td>2</td>\n",
       "      <td>16</td>\n",
       "      <td>44</td>\n",
       "      <td>2020-09-08</td>\n",
       "      <td>614901ATB</td>\n",
       "      <td>1.0</td>\n",
       "      <td>2</td>\n",
       "      <td>60</td>\n",
       "      <td>152.0</td>\n",
       "      <td>18240</td>\n",
       "      <td>2021-12-29</td>\n",
       "    </tr>\n",
       "    <tr>\n",
       "      <td>10923006</td>\n",
       "      <td>2020</td>\n",
       "      <td>999989</td>\n",
       "      <td>1296609</td>\n",
       "      <td>2</td>\n",
       "      <td>2</td>\n",
       "      <td>16</td>\n",
       "      <td>44</td>\n",
       "      <td>2020-09-08</td>\n",
       "      <td>184101ATB</td>\n",
       "      <td>1.0</td>\n",
       "      <td>2</td>\n",
       "      <td>60</td>\n",
       "      <td>322.0</td>\n",
       "      <td>38640</td>\n",
       "      <td>2021-12-29</td>\n",
       "    </tr>\n",
       "  </tbody>\n",
       "</table>\n",
       "<p>769852 rows × 15 columns</p>\n",
       "</div>"
      ],
      "text/plain": [
       "          기준년도  가입자 일련번호  처방내역일련번호  일련번호  성별코드  연령대코드(5세단위)  시도코드      요양개시일자  \\\n",
       "52        2020    666669   8553063     3     2            9    26  2020-10-11   \n",
       "53        2020    666669   8553063     2     2            9    26  2020-10-11   \n",
       "54        2020    666669   8553063     4     2            9    26  2020-10-11   \n",
       "55        2020    666669   3116013     1     2            9    26  2020-05-02   \n",
       "56        2020    666669   2241712     2     2            9    26  2020-05-30   \n",
       "...        ...       ...       ...   ...   ...          ...   ...         ...   \n",
       "10923002  2020    999989   1296609     6     2           16    44  2020-09-08   \n",
       "10923003  2020    999989   1296609     5     2           16    44  2020-09-08   \n",
       "10923004  2020    999989   1296609     4     2           16    44  2020-09-08   \n",
       "10923005  2020    999989   1296609     3     2           16    44  2020-09-08   \n",
       "10923006  2020    999989   1296609     2     2           16    44  2020-09-08   \n",
       "\n",
       "          약품일반성분명코드  1회 투약량  1일투약량  총투여일수      단가     금액    데이터 공개일자  \n",
       "52        430102ATB     1.0      2     10   205.0   4100  2021-12-29  \n",
       "53        438901ATB     1.0      2     10    70.0   1400  2021-12-29  \n",
       "54        374602ATB     1.0      1     10   765.0   7650  2021-12-29  \n",
       "55        546600CCM     1.0      1      1  1720.0   1720  2021-12-29  \n",
       "56        451202ATE     1.0      2      7    41.0    574  2021-12-29  \n",
       "...             ...     ...    ...    ...     ...    ...         ...  \n",
       "10923002  163801ATB     1.0      1     60    30.0   1800  2021-12-29  \n",
       "10923003  454001ATB     1.0      1     60   612.0  36720  2021-12-29  \n",
       "10923004  513000ATB     1.0      1     60   190.0  11400  2021-12-29  \n",
       "10923005  614901ATB     1.0      2     60   152.0  18240  2021-12-29  \n",
       "10923006  184101ATB     1.0      2     60   322.0  38640  2021-12-29  \n",
       "\n",
       "[769852 rows x 15 columns]"
      ]
     },
     "execution_count": 34,
     "metadata": {},
     "output_type": "execute_result"
    }
   ],
   "source": [
    "df_temp"
   ]
  },
  {
   "cell_type": "code",
   "execution_count": null,
   "metadata": {},
   "outputs": [],
   "source": []
  }
 ],
 "metadata": {
  "colab": {
   "authorship_tag": "ABX9TyNF8QnQzgAlrHDKA+kUfSzR",
   "collapsed_sections": [],
   "name": "의약품처방정보_데이터샘플링.ipynb",
   "provenance": []
  },
  "kernelspec": {
   "display_name": "Python 3",
   "language": "python",
   "name": "python3"
  },
  "language_info": {
   "codemirror_mode": {
    "name": "ipython",
    "version": 3
   },
   "file_extension": ".py",
   "mimetype": "text/x-python",
   "name": "python",
   "nbconvert_exporter": "python",
   "pygments_lexer": "ipython3",
   "version": "3.7.4"
  },
  "toc": {
   "base_numbering": 1,
   "nav_menu": {},
   "number_sections": true,
   "sideBar": true,
   "skip_h1_title": false,
   "title_cell": "Table of Contents",
   "title_sidebar": "Contents",
   "toc_cell": false,
   "toc_position": {},
   "toc_section_display": true,
   "toc_window_display": false
  },
  "varInspector": {
   "cols": {
    "lenName": 16,
    "lenType": 16,
    "lenVar": 40
   },
   "kernels_config": {
    "python": {
     "delete_cmd_postfix": "",
     "delete_cmd_prefix": "del ",
     "library": "var_list.py",
     "varRefreshCmd": "print(var_dic_list())"
    },
    "r": {
     "delete_cmd_postfix": ") ",
     "delete_cmd_prefix": "rm(",
     "library": "var_list.r",
     "varRefreshCmd": "cat(var_dic_list()) "
    }
   },
   "types_to_exclude": [
    "module",
    "function",
    "builtin_function_or_method",
    "instance",
    "_Feature"
   ],
   "window_display": false
  }
 },
 "nbformat": 4,
 "nbformat_minor": 1
}
