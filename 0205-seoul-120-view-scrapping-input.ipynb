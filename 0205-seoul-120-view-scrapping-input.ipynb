{
 "cells": [
  {
   "cell_type": "markdown",
   "metadata": {
    "id": "TLZrYq-pynC7"
   },
   "source": [
    "## 서울특별시 다산콜센터(☎120)의 주요 민원\n",
    "* 서울특별시 다산콜센터(☎120)의 주요 민원(자주 묻는 질문)에 대한 답변정보\n",
    "* https://opengov.seoul.go.kr/civilappeal/list"
   ]
  },
  {
   "cell_type": "code",
   "execution_count": 1,
   "metadata": {
    "id": "7gpJ0R8CynDC"
   },
   "outputs": [],
   "source": [
    "# 필요한 라이브러리들을 불러옵니다.\n",
    "# pandas : 파이썬에서 사용할 수 있는 엑셀과 유사한 데이터분석 도구입니다.\n",
    "# requests : 매우 작은 브라우저로 웹사이트의 내용과 정보를 불러옵니다.\n",
    "# BeautifulSoup : request로 가져온 웹사이트의 html 태그를 찾기 위해 사용합니다.\n",
    "# time : 한 번에 많은 양의 데이터를 가져오게 되면 서버에서 부담을주기 때문에 시간 간격을 두고 가져오기 위해 사용합니다.\n",
    "\n",
    "\n",
    "import pandas as pd\n",
    "import numpy as np\n",
    "import requests\n",
    "from bs4 import BeautifulSoup as bs\n",
    "import re\n",
    "import time"
   ]
  },
  {
   "cell_type": "code",
   "execution_count": 2,
   "metadata": {
    "id": "GRCAurraynDG",
    "outputId": "4c99e82c-845e-436d-e9e2-5db0c19b644f"
   },
   "outputs": [],
   "source": [
    "# 수집해온 파일(\"seoul-120-list.csv\")을 읽어옵니다.\n",
    "# df\n",
    "\n",
    "df=pd.read_csv(\"seoul-120-list.csv\")"
   ]
  },
  {
   "cell_type": "markdown",
   "metadata": {
    "id": "yXhyiiFQynDI"
   },
   "source": [
    "## 일부 데이터를 우선 수집\n",
    "* 현업에서는 모든 데이터를 수집해야 하지만 모든 데이터 수집시 서버에 부담이 될 수 있으며 오래 걸립니다.\n",
    "* 또 동작하지 않거나 잘못 수집을 했다면 처음부터 다시 수집해야 하기 때문에 일부 데이터만을 통해 먼저 수집해 보는 것을 추천합니다.\n",
    "* 일부 데이터를 먼저 수집해 보고 데이터가 필요할 때 전체를 수집해 봅니다."
   ]
  },
  {
   "cell_type": "code",
   "execution_count": 31,
   "metadata": {
    "id": "POYTIK8OynDI",
    "outputId": "a94f4753-7ef5-46e6-d08b-c4af14d5b9ac"
   },
   "outputs": [],
   "source": [
    "# head 로 일부 데이터만 가져와서 먼저 수집해 봅니다.\n",
    "df = df.head(10)"
   ]
  },
  {
   "cell_type": "markdown",
   "metadata": {
    "id": "ZfHdymMaynDK"
   },
   "source": [
    "## 특정 내용 읽어오기\n",
    "* 내용의 URL을 확인합니다.\n",
    "* requests를 통해 내용에 접근합니다.\n",
    "* BeautifulSoup의 select를 사용해 내용이 있는 태그를 찾습니다.\n"
   ]
  },
  {
   "cell_type": "code",
   "execution_count": 32,
   "metadata": {
    "id": "GimSbmtSynDL",
    "outputId": "e5cfaa42-5bb1-41bc-f278-04c4bc8f1216",
    "scrolled": false
   },
   "outputs": [
    {
     "name": "stdout",
     "output_type": "stream",
     "text": [
      "https://opengov.seoul.go.kr/civilappeal/view/?nid=23194045\n"
     ]
    },
    {
     "data": {
      "text/plain": [
       "'\\n문서 정보\\n\\n\\n[서울산업진흥원] 서울메이드란? - 문서정보 : 원본시스템, 제공부서, 작성자(책임자), 생산일, 관리번호, 분류\\n\\n\\n\\n\\n\\n\\n\\n\\n원본시스템\\n다산콜센터\\n\\r\\n\\t\\t\\t\\t\\t\\t\\t\\t\\t\\t\\t\\t\\t\\t\\t\\t\\t\\t\\t\\t\\t제공부서\\r\\n\\t\\t\\t\\t\\t\\t\\t\\t\\t\\t\\t\\t\\t\\t\\t\\t\\t\\t\\t\\t\\n서울산업진흥원\\n\\n\\n작성자(책임자)\\n120다산콜재단\\n생산일\\n2021-06-29\\n\\n\\n관리번호\\nD0000042894548\\n분류\\n경제\\n\\n\\n\\n\\n\\n'"
      ]
     },
     "execution_count": 32,
     "metadata": {},
     "output_type": "execute_result"
    }
   ],
   "source": [
    "# 내용 페이지의 주소를 url 변수에 담아줍니다.\n",
    "# 웹페이지의 결과를 받아옵니다.\n",
    "# BeautifulSoup을 통해 lxml로 파싱해 올 수 있도록 합니다.\n",
    "# html 태그에서 \"div.line-all\"의 0번째 값을 선택(select)하여 text를 확인합니다. \n",
    "\n",
    "url = \"https://opengov.seoul.go.kr/civilappeal/view/?nid=23194045\"\n",
    "print(url)\n",
    "# response\n",
    "response = requests.get(url)\n",
    "html = bs(response.text)\n",
    "content = html.select('#content > div > div.view-content.view-content-article > div:nth-child(2) > div > p')[0].get_text()\n",
    "content\n",
    "\n",
    "content1 = html.select('#content > div > div.view-content.view-content-article > div:nth-child(3)')[0].get_text()\n",
    "\n",
    "content1\n",
    "# html\n",
    "# content"
   ]
  },
  {
   "cell_type": "code",
   "execution_count": 33,
   "metadata": {},
   "outputs": [
    {
     "data": {
      "text/html": [
       "<div>\n",
       "<style scoped>\n",
       "    .dataframe tbody tr th:only-of-type {\n",
       "        vertical-align: middle;\n",
       "    }\n",
       "\n",
       "    .dataframe tbody tr th {\n",
       "        vertical-align: top;\n",
       "    }\n",
       "\n",
       "    .dataframe thead th {\n",
       "        text-align: right;\n",
       "    }\n",
       "</style>\n",
       "<table border=\"1\" class=\"dataframe\">\n",
       "  <thead>\n",
       "    <tr style=\"text-align: right;\">\n",
       "      <th></th>\n",
       "      <th>0</th>\n",
       "      <th>1</th>\n",
       "      <th>2</th>\n",
       "      <th>3</th>\n",
       "    </tr>\n",
       "  </thead>\n",
       "  <tbody>\n",
       "    <tr>\n",
       "      <td>0</td>\n",
       "      <td>원본시스템</td>\n",
       "      <td>다산콜센터</td>\n",
       "      <td>제공부서</td>\n",
       "      <td>서울산업진흥원</td>\n",
       "    </tr>\n",
       "    <tr>\n",
       "      <td>1</td>\n",
       "      <td>작성자(책임자)</td>\n",
       "      <td>120다산콜재단</td>\n",
       "      <td>생산일</td>\n",
       "      <td>2021-06-29</td>\n",
       "    </tr>\n",
       "    <tr>\n",
       "      <td>2</td>\n",
       "      <td>관리번호</td>\n",
       "      <td>D0000042894548</td>\n",
       "      <td>분류</td>\n",
       "      <td>경제</td>\n",
       "    </tr>\n",
       "  </tbody>\n",
       "</table>\n",
       "</div>"
      ],
      "text/plain": [
       "          0               1     2           3\n",
       "0     원본시스템           다산콜센터  제공부서     서울산업진흥원\n",
       "1  작성자(책임자)        120다산콜재단   생산일  2021-06-29\n",
       "2      관리번호  D0000042894548    분류          경제"
      ]
     },
     "execution_count": 33,
     "metadata": {},
     "output_type": "execute_result"
    }
   ],
   "source": [
    "pd.read_html(response.text)[1]"
   ]
  },
  {
   "cell_type": "code",
   "execution_count": 34,
   "metadata": {
    "scrolled": true
   },
   "outputs": [
    {
     "data": {
      "text/html": [
       "<div>\n",
       "<style scoped>\n",
       "    .dataframe tbody tr th:only-of-type {\n",
       "        vertical-align: middle;\n",
       "    }\n",
       "\n",
       "    .dataframe tbody tr th {\n",
       "        vertical-align: top;\n",
       "    }\n",
       "\n",
       "    .dataframe thead th {\n",
       "        text-align: right;\n",
       "    }\n",
       "</style>\n",
       "<table border=\"1\" class=\"dataframe\">\n",
       "  <thead>\n",
       "    <tr style=\"text-align: right;\">\n",
       "      <th></th>\n",
       "      <th>0</th>\n",
       "      <th>1</th>\n",
       "      <th>2</th>\n",
       "      <th>3</th>\n",
       "    </tr>\n",
       "  </thead>\n",
       "  <tbody>\n",
       "    <tr>\n",
       "      <td>0</td>\n",
       "      <td>원본시스템</td>\n",
       "      <td>다산콜센터</td>\n",
       "      <td>제공부서</td>\n",
       "      <td>서울산업진흥원</td>\n",
       "    </tr>\n",
       "    <tr>\n",
       "      <td>1</td>\n",
       "      <td>작성자(책임자)</td>\n",
       "      <td>120다산콜재단</td>\n",
       "      <td>생산일</td>\n",
       "      <td>2021-06-29</td>\n",
       "    </tr>\n",
       "    <tr>\n",
       "      <td>2</td>\n",
       "      <td>관리번호</td>\n",
       "      <td>D0000042894548</td>\n",
       "      <td>분류</td>\n",
       "      <td>경제</td>\n",
       "    </tr>\n",
       "  </tbody>\n",
       "</table>\n",
       "</div>"
      ],
      "text/plain": [
       "          0               1     2           3\n",
       "0     원본시스템           다산콜센터  제공부서     서울산업진흥원\n",
       "1  작성자(책임자)        120다산콜재단   생산일  2021-06-29\n",
       "2      관리번호  D0000042894548    분류          경제"
      ]
     },
     "execution_count": 34,
     "metadata": {},
     "output_type": "execute_result"
    }
   ],
   "source": [
    "#content > div > div.view-content.view-content-article > div:nth-child(3) > div > table\n",
    "\n",
    "table = pd.read_html(response.text)[1]\n",
    "# table[[0,1]].set_index(0)\n",
    "\n",
    "table\n",
    "\n"
   ]
  },
  {
   "cell_type": "code",
   "execution_count": 35,
   "metadata": {},
   "outputs": [
    {
     "data": {
      "text/html": [
       "<div>\n",
       "<style scoped>\n",
       "    .dataframe tbody tr th:only-of-type {\n",
       "        vertical-align: middle;\n",
       "    }\n",
       "\n",
       "    .dataframe tbody tr th {\n",
       "        vertical-align: top;\n",
       "    }\n",
       "\n",
       "    .dataframe thead th {\n",
       "        text-align: right;\n",
       "    }\n",
       "</style>\n",
       "<table border=\"1\" class=\"dataframe\">\n",
       "  <thead>\n",
       "    <tr style=\"text-align: right;\">\n",
       "      <th></th>\n",
       "      <th>원본시스템</th>\n",
       "      <th>작성자(책임자)</th>\n",
       "      <th>관리번호</th>\n",
       "    </tr>\n",
       "  </thead>\n",
       "  <tbody>\n",
       "    <tr>\n",
       "      <td>1</td>\n",
       "      <td>다산콜센터</td>\n",
       "      <td>120다산콜재단</td>\n",
       "      <td>D0000042894548</td>\n",
       "    </tr>\n",
       "  </tbody>\n",
       "</table>\n",
       "</div>"
      ],
      "text/plain": [
       "0  원본시스템  작성자(책임자)            관리번호\n",
       "1  다산콜센터  120다산콜재단  D0000042894548"
      ]
     },
     "execution_count": 35,
     "metadata": {},
     "output_type": "execute_result"
    }
   ],
   "source": [
    "t01 = table[[0,1]].set_index(0).T\n",
    "t01\n",
    "\n"
   ]
  },
  {
   "cell_type": "code",
   "execution_count": 36,
   "metadata": {},
   "outputs": [
    {
     "data": {
      "text/html": [
       "<div>\n",
       "<style scoped>\n",
       "    .dataframe tbody tr th:only-of-type {\n",
       "        vertical-align: middle;\n",
       "    }\n",
       "\n",
       "    .dataframe tbody tr th {\n",
       "        vertical-align: top;\n",
       "    }\n",
       "\n",
       "    .dataframe thead th {\n",
       "        text-align: right;\n",
       "    }\n",
       "</style>\n",
       "<table border=\"1\" class=\"dataframe\">\n",
       "  <thead>\n",
       "    <tr style=\"text-align: right;\">\n",
       "      <th>2</th>\n",
       "      <th>제공부서</th>\n",
       "      <th>생산일</th>\n",
       "      <th>분류</th>\n",
       "    </tr>\n",
       "  </thead>\n",
       "  <tbody>\n",
       "    <tr>\n",
       "      <td>3</td>\n",
       "      <td>서울산업진흥원</td>\n",
       "      <td>2021-06-29</td>\n",
       "      <td>경제</td>\n",
       "    </tr>\n",
       "  </tbody>\n",
       "</table>\n",
       "</div>"
      ],
      "text/plain": [
       "2     제공부서         생산일  분류\n",
       "3  서울산업진흥원  2021-06-29  경제"
      ]
     },
     "execution_count": 36,
     "metadata": {},
     "output_type": "execute_result"
    }
   ],
   "source": [
    "t02 = table[[2,3]].set_index(2).T\n",
    "t02"
   ]
  },
  {
   "cell_type": "code",
   "execution_count": null,
   "metadata": {},
   "outputs": [],
   "source": []
  },
  {
   "cell_type": "code",
   "execution_count": null,
   "metadata": {},
   "outputs": [],
   "source": []
  },
  {
   "cell_type": "code",
   "execution_count": null,
   "metadata": {},
   "outputs": [],
   "source": []
  },
  {
   "cell_type": "code",
   "execution_count": 37,
   "metadata": {
    "id": "-iG8ZXj6ynDM",
    "outputId": "c4854d44-b79c-4de6-f74d-7d485bb71da7"
   },
   "outputs": [
    {
     "data": {
      "text/html": [
       "<div>\n",
       "<style scoped>\n",
       "    .dataframe tbody tr th:only-of-type {\n",
       "        vertical-align: middle;\n",
       "    }\n",
       "\n",
       "    .dataframe tbody tr th {\n",
       "        vertical-align: top;\n",
       "    }\n",
       "\n",
       "    .dataframe thead th {\n",
       "        text-align: right;\n",
       "    }\n",
       "</style>\n",
       "<table border=\"1\" class=\"dataframe\">\n",
       "  <thead>\n",
       "    <tr style=\"text-align: right;\">\n",
       "      <th></th>\n",
       "      <th>원본시스템</th>\n",
       "      <th>작성자(책임자)</th>\n",
       "      <th>관리번호</th>\n",
       "      <th>제공부서</th>\n",
       "      <th>생산일</th>\n",
       "      <th>분류</th>\n",
       "    </tr>\n",
       "  </thead>\n",
       "  <tbody>\n",
       "    <tr>\n",
       "      <td>1</td>\n",
       "      <td>다산콜센터</td>\n",
       "      <td>120다산콜재단</td>\n",
       "      <td>D0000042894548</td>\n",
       "      <td>서울산업진흥원</td>\n",
       "      <td>2021-06-29</td>\n",
       "      <td>경제</td>\n",
       "    </tr>\n",
       "  </tbody>\n",
       "</table>\n",
       "</div>"
      ],
      "text/plain": [
       "   원본시스템  작성자(책임자)            관리번호     제공부서         생산일  분류\n",
       "1  다산콜센터  120다산콜재단  D0000042894548  서울산업진흥원  2021-06-29  경제"
      ]
     },
     "execution_count": 37,
     "metadata": {},
     "output_type": "execute_result"
    }
   ],
   "source": [
    "# 해당 문의가 어떤 분류에 해당되는지 알기 위해 분류를 수집합니다.\n",
    "def get_desc(response):\n",
    "    \"\"\" 분류 수집하기 \"\"\"\n",
    "    table = pd.read_html(response.text)[-1]\n",
    "    t01 = table[[0,1]].set_index(0).T\n",
    "    t02 = table[[2,3]].set_index(2).T\n",
    "    t02.index = t01.index\n",
    "    df_desc = pd.concat([t01,t02], axis=1)\n",
    "    return df_desc\n",
    "\n",
    "\n",
    "get_desc(response)"
   ]
  },
  {
   "cell_type": "markdown",
   "metadata": {
    "id": "eoYRVl9XynDN"
   },
   "source": [
    "## 내용 수집 함수 만들기"
   ]
  },
  {
   "cell_type": "code",
   "execution_count": 38,
   "metadata": {
    "id": "6dNT7xFjynDO"
   },
   "outputs": [],
   "source": [
    "# 위의 전체 과정을 함수로 만들어 봅니다.\n",
    "\n",
    "def get_view_page(view_no):\n",
    "    \"\"\" \n",
    "    내용과 분류를 수집하는 함수 만들기\n",
    "    \"\"\"\n",
    "    \n",
    "    \n",
    "    url = f\"https://opengov.seoul.go.kr/civilappeal/view/?nid={view_no}\"\n",
    "    \n",
    "    response = requests.get(url)\n",
    "    html = bs(response.text)\n",
    "    content = html.select('#content > div > div.view-content.view-content-article > div:nth-child(2) > div')\n",
    "    #     desc = get_desc(response)\n",
    "    \n",
    "    if content : \n",
    "        content = content[0].get_text()\n",
    "    else:\n",
    "        content : \"\"\n",
    "    df_desc = get_desc(response)\n",
    "    df_desc[\"내용\"] = content\n",
    "    return df_desc"
   ]
  },
  {
   "cell_type": "code",
   "execution_count": 39,
   "metadata": {
    "id": "_jbwzga0ynDO",
    "outputId": "61806eba-a5b8-4eea-f62b-12d1bbdfd6ee"
   },
   "outputs": [
    {
     "data": {
      "text/html": [
       "<div>\n",
       "<style scoped>\n",
       "    .dataframe tbody tr th:only-of-type {\n",
       "        vertical-align: middle;\n",
       "    }\n",
       "\n",
       "    .dataframe tbody tr th {\n",
       "        vertical-align: top;\n",
       "    }\n",
       "\n",
       "    .dataframe thead th {\n",
       "        text-align: right;\n",
       "    }\n",
       "</style>\n",
       "<table border=\"1\" class=\"dataframe\">\n",
       "  <thead>\n",
       "    <tr style=\"text-align: right;\">\n",
       "      <th></th>\n",
       "      <th>원본시스템</th>\n",
       "      <th>작성자(책임자)</th>\n",
       "      <th>관리번호</th>\n",
       "      <th>제공부서</th>\n",
       "      <th>생산일</th>\n",
       "      <th>분류</th>\n",
       "      <th>내용</th>\n",
       "    </tr>\n",
       "  </thead>\n",
       "  <tbody>\n",
       "    <tr>\n",
       "      <td>1</td>\n",
       "      <td>다산콜센터</td>\n",
       "      <td>120다산콜재단</td>\n",
       "      <td>D0000042557522</td>\n",
       "      <td>서울특별시 광진구 복지국 가정복지과</td>\n",
       "      <td>2021-05-13</td>\n",
       "      <td>복지</td>\n",
       "      <td>\\n    업무개요  교통약자인 임산부와 영아가정 주민이 병원 진료를 받으러 갈 떄...</td>\n",
       "    </tr>\n",
       "  </tbody>\n",
       "</table>\n",
       "</div>"
      ],
      "text/plain": [
       "   원본시스템  작성자(책임자)            관리번호                 제공부서         생산일  분류  \\\n",
       "1  다산콜센터  120다산콜재단  D0000042557522  서울특별시 광진구 복지국 가정복지과  2021-05-13  복지   \n",
       "\n",
       "                                                  내용  \n",
       "1  \\n    업무개요  교통약자인 임산부와 영아가정 주민이 병원 진료를 받으러 갈 떄...  "
      ]
     },
     "execution_count": 39,
     "metadata": {},
     "output_type": "execute_result"
    }
   ],
   "source": [
    "# 없는 데이터를 불러왔을 때 오류가 나는지 확인\n",
    "# view_no가 22904492 인 것을 get_view_page()로 확인해 봅니다.\n",
    "get_view_page(view_no=22904492)"
   ]
  },
  {
   "cell_type": "code",
   "execution_count": null,
   "metadata": {},
   "outputs": [],
   "source": []
  },
  {
   "cell_type": "markdown",
   "metadata": {
    "id": "ld-tG13HynDP"
   },
   "source": [
    "## 전체 내용 가져오기\n",
    "* <font color=\"red\">실습을 위해 위에서 일부 데이터만 가져왔습니다.</font>\n",
    "* 전체 데이터 수집시에서 전체 수집한 데이터로 수집을 진행하면 됩니다.\n",
    "* 전체 데이터 수집시에는 서버에 부담이 가지 않도록 time.sleep()을 통해 간격을 두고 수집해 주세요."
   ]
  },
  {
   "cell_type": "code",
   "execution_count": 40,
   "metadata": {
    "colab": {
     "referenced_widgets": [
      "765f0f37bbc643878b1f47e7806873b8"
     ]
    },
    "id": "BCRuR9HFynDP",
    "outputId": "02213636-fd95-4283-8258-af5698a77a58",
    "scrolled": false
   },
   "outputs": [
    {
     "data": {
      "application/vnd.jupyter.widget-view+json": {
       "model_id": "ce4acf632ecc460cb92f40b80777cabc",
       "version_major": 2,
       "version_minor": 0
      },
      "text/plain": [
       "HBox(children=(IntProgress(value=0, max=10), HTML(value='')))"
      ]
     },
     "metadata": {},
     "output_type": "display_data"
    },
    {
     "name": "stdout",
     "output_type": "stream",
     "text": [
      "\n"
     ]
    }
   ],
   "source": [
    "# tqdm.notebook 의 tqdm 을 통해 수집 진행상태를 확인합니다.\n",
    "# progress_apply 를 사용하면 진행상태를 확인하며 데이터를 가져올 수 있습니다.\n",
    "from tqdm.notebook import tqdm\n",
    "tqdm.pandas()\n",
    "view = df[\"내용번호\"].progress_map(get_view_page)"
   ]
  },
  {
   "cell_type": "markdown",
   "metadata": {
    "id": "yecPuZRsynDQ"
   },
   "source": [
    "## 수집한 내용 확인하기"
   ]
  },
  {
   "cell_type": "code",
   "execution_count": 41,
   "metadata": {
    "id": "7YgaOW-uynDQ",
    "outputId": "c4f8204b-1f69-45fd-edb0-3c063fb0feab",
    "scrolled": true
   },
   "outputs": [
    {
     "data": {
      "text/plain": [
       "0       원본시스템  작성자(책임자)            관리번호            ...\n",
       "1       원본시스템  작성자(책임자)            관리번호     제공부서   ...\n",
       "2       원본시스템  작성자(책임자)            관리번호            ...\n",
       "3       원본시스템  작성자(책임자)            관리번호            ...\n",
       "4       원본시스템  작성자(책임자)            관리번호            ...\n",
       "5       원본시스템  작성자(책임자)            관리번호       제공부서 ...\n",
       "6       원본시스템  작성자(책임자)            관리번호            ...\n",
       "7       원본시스템  작성자(책임자)            관리번호      제공부서  ...\n",
       "8       원본시스템  작성자(책임자)            관리번호            ...\n",
       "9       원본시스템  작성자(책임자)            관리번호            ...\n",
       "Name: 내용번호, dtype: object"
      ]
     },
     "execution_count": 41,
     "metadata": {},
     "output_type": "execute_result"
    }
   ],
   "source": [
    "# 일부 데이터만 슬라이싱하여 살펴봅니다.\n",
    "view"
   ]
  },
  {
   "cell_type": "code",
   "execution_count": 43,
   "metadata": {
    "id": "WeFFag4jynDQ",
    "outputId": "e97824a3-0436-4f4a-99f5-7c1231e3d2d1"
   },
   "outputs": [
    {
     "data": {
      "text/html": [
       "<div>\n",
       "<style scoped>\n",
       "    .dataframe tbody tr th:only-of-type {\n",
       "        vertical-align: middle;\n",
       "    }\n",
       "\n",
       "    .dataframe tbody tr th {\n",
       "        vertical-align: top;\n",
       "    }\n",
       "\n",
       "    .dataframe thead th {\n",
       "        text-align: right;\n",
       "    }\n",
       "</style>\n",
       "<table border=\"1\" class=\"dataframe\">\n",
       "  <thead>\n",
       "    <tr style=\"text-align: right;\">\n",
       "      <th></th>\n",
       "      <th>원본시스템</th>\n",
       "      <th>작성자(책임자)</th>\n",
       "      <th>관리번호</th>\n",
       "      <th>제공부서</th>\n",
       "      <th>생산일</th>\n",
       "      <th>분류</th>\n",
       "      <th>내용</th>\n",
       "    </tr>\n",
       "  </thead>\n",
       "  <tbody>\n",
       "    <tr>\n",
       "      <td>1</td>\n",
       "      <td>다산콜센터</td>\n",
       "      <td>120다산콜재단</td>\n",
       "      <td>D0000040829456</td>\n",
       "      <td>서울특별시 여성가족정책실 여성권익담당관</td>\n",
       "      <td>2020-09-16</td>\n",
       "      <td>복지</td>\n",
       "      <td>\\n    업무개요   직장 내 성희롱 지원체계 사각지대에 있는 서울 시민이 안전하...</td>\n",
       "    </tr>\n",
       "  </tbody>\n",
       "</table>\n",
       "</div>"
      ],
      "text/plain": [
       "   원본시스템  작성자(책임자)            관리번호                   제공부서         생산일  분류  \\\n",
       "1  다산콜센터  120다산콜재단  D0000040829456  서울특별시 여성가족정책실 여성권익담당관  2020-09-16  복지   \n",
       "\n",
       "                                                  내용  \n",
       "1  \\n    업무개요   직장 내 성희롱 지원체계 사각지대에 있는 서울 시민이 안전하...  "
      ]
     },
     "execution_count": 43,
     "metadata": {},
     "output_type": "execute_result"
    }
   ],
   "source": [
    "# 하나만 가져오면 데이터프레임 형태로 되어 있음을 확인합니다.\n",
    "view[4]"
   ]
  },
  {
   "cell_type": "markdown",
   "metadata": {
    "id": "pNHxbWSrynDR"
   },
   "source": [
    "## 하나로 병합하기"
   ]
  },
  {
   "cell_type": "code",
   "execution_count": 46,
   "metadata": {
    "id": "qlvAy7PqynDR"
   },
   "outputs": [
    {
     "data": {
      "text/html": [
       "<div>\n",
       "<style scoped>\n",
       "    .dataframe tbody tr th:only-of-type {\n",
       "        vertical-align: middle;\n",
       "    }\n",
       "\n",
       "    .dataframe tbody tr th {\n",
       "        vertical-align: top;\n",
       "    }\n",
       "\n",
       "    .dataframe thead th {\n",
       "        text-align: right;\n",
       "    }\n",
       "</style>\n",
       "<table border=\"1\" class=\"dataframe\">\n",
       "  <thead>\n",
       "    <tr style=\"text-align: right;\">\n",
       "      <th></th>\n",
       "      <th>원본시스템</th>\n",
       "      <th>작성자(책임자)</th>\n",
       "      <th>관리번호</th>\n",
       "      <th>제공부서</th>\n",
       "      <th>생산일</th>\n",
       "      <th>분류</th>\n",
       "      <th>내용</th>\n",
       "    </tr>\n",
       "  </thead>\n",
       "  <tbody>\n",
       "    <tr>\n",
       "      <td>1</td>\n",
       "      <td>다산콜센터</td>\n",
       "      <td>120다산콜재단</td>\n",
       "      <td>D0000043274644</td>\n",
       "      <td>서울특별시 서초구 주민생활국 여성보육과</td>\n",
       "      <td>2021-08-17</td>\n",
       "      <td>복지</td>\n",
       "      <td>\\n      업무개요   다자녀가정 아이들의 안전한 실내 활동과 층간소음 예방을 ...</td>\n",
       "    </tr>\n",
       "    <tr>\n",
       "      <td>1</td>\n",
       "      <td>다산콜센터</td>\n",
       "      <td>120다산콜재단</td>\n",
       "      <td>D0000042894548</td>\n",
       "      <td>서울산업진흥원</td>\n",
       "      <td>2021-06-29</td>\n",
       "      <td>경제</td>\n",
       "      <td>\\n 서울의 감성을 담은 다양하고 새로운 경험을 제공하기 위해 만들어진 라이프스타일...</td>\n",
       "    </tr>\n",
       "    <tr>\n",
       "      <td>1</td>\n",
       "      <td>다산콜센터</td>\n",
       "      <td>120다산콜재단</td>\n",
       "      <td>D0000042557522</td>\n",
       "      <td>서울특별시 광진구 복지국 가정복지과</td>\n",
       "      <td>2021-05-13</td>\n",
       "      <td>복지</td>\n",
       "      <td>\\n    업무개요  교통약자인 임산부와 영아가정 주민이 병원 진료를 받으러 갈 떄...</td>\n",
       "    </tr>\n",
       "    <tr>\n",
       "      <td>1</td>\n",
       "      <td>다산콜센터</td>\n",
       "      <td>120다산콜재단</td>\n",
       "      <td>D0000042114742</td>\n",
       "      <td>서울특별시 복지정책실 복지기획관 장애인복지정책과</td>\n",
       "      <td>2021-03-12</td>\n",
       "      <td>복지</td>\n",
       "      <td>\\n ▣ 마포뇌병변장애인 비전센터 운영     구분  내용    목적   학령기 이...</td>\n",
       "    </tr>\n",
       "    <tr>\n",
       "      <td>1</td>\n",
       "      <td>다산콜센터</td>\n",
       "      <td>120다산콜재단</td>\n",
       "      <td>D0000040829456</td>\n",
       "      <td>서울특별시 여성가족정책실 여성권익담당관</td>\n",
       "      <td>2020-09-16</td>\n",
       "      <td>복지</td>\n",
       "      <td>\\n    업무개요   직장 내 성희롱 지원체계 사각지대에 있는 서울 시민이 안전하...</td>\n",
       "    </tr>\n",
       "  </tbody>\n",
       "</table>\n",
       "</div>"
      ],
      "text/plain": [
       "   원본시스템  작성자(책임자)            관리번호                        제공부서         생산일  \\\n",
       "1  다산콜센터  120다산콜재단  D0000043274644       서울특별시 서초구 주민생활국 여성보육과  2021-08-17   \n",
       "1  다산콜센터  120다산콜재단  D0000042894548                     서울산업진흥원  2021-06-29   \n",
       "1  다산콜센터  120다산콜재단  D0000042557522         서울특별시 광진구 복지국 가정복지과  2021-05-13   \n",
       "1  다산콜센터  120다산콜재단  D0000042114742  서울특별시 복지정책실 복지기획관 장애인복지정책과  2021-03-12   \n",
       "1  다산콜센터  120다산콜재단  D0000040829456       서울특별시 여성가족정책실 여성권익담당관  2020-09-16   \n",
       "\n",
       "   분류                                                 내용  \n",
       "1  복지  \\n      업무개요   다자녀가정 아이들의 안전한 실내 활동과 층간소음 예방을 ...  \n",
       "1  경제  \\n 서울의 감성을 담은 다양하고 새로운 경험을 제공하기 위해 만들어진 라이프스타일...  \n",
       "1  복지  \\n    업무개요  교통약자인 임산부와 영아가정 주민이 병원 진료를 받으러 갈 떄...  \n",
       "1  복지  \\n ▣ 마포뇌병변장애인 비전센터 운영     구분  내용    목적   학령기 이...  \n",
       "1  복지  \\n    업무개요   직장 내 성희롱 지원체계 사각지대에 있는 서울 시민이 안전하...  "
      ]
     },
     "execution_count": 46,
     "metadata": {},
     "output_type": "execute_result"
    }
   ],
   "source": [
    "# 수집한 내용을 tolist() 를 통해 리스트로 변환 후 concat 으로 병합합니다.\n",
    "df_view = pd.concat(view.tolist())\n",
    "\n",
    "\n",
    "df_view.head()"
   ]
  },
  {
   "cell_type": "code",
   "execution_count": 45,
   "metadata": {
    "id": "ObcuAGQgynDR",
    "outputId": "40b17cee-0744-4bf1-bef0-4a9413f7511d"
   },
   "outputs": [
    {
     "ename": "NameError",
     "evalue": "name 'df_detail' is not defined",
     "output_type": "error",
     "traceback": [
      "\u001b[0;31m---------------------------------------------------------------------------\u001b[0m",
      "\u001b[0;31mNameError\u001b[0m                                 Traceback (most recent call last)",
      "\u001b[0;32m<ipython-input-45-776233ce0d40>\u001b[0m in \u001b[0;36m<module>\u001b[0;34m\u001b[0m\n\u001b[1;32m      1\u001b[0m \u001b[0;31m# 기존 데이터와 병합하여 내용이 함께 수집된 것을 확인합니다.\u001b[0m\u001b[0;34m\u001b[0m\u001b[0;34m\u001b[0m\u001b[0;34m\u001b[0m\u001b[0m\n\u001b[0;32m----> 2\u001b[0;31m \u001b[0mdf_detail\u001b[0m\u001b[0;34m\u001b[0m\u001b[0;34m\u001b[0m\u001b[0m\n\u001b[0m",
      "\u001b[0;31mNameError\u001b[0m: name 'df_detail' is not defined"
     ]
    }
   ],
   "source": [
    "# 기존 데이터와 병합하여 내용이 함께 수집된 것을 확인합니다.\n",
    "df_detail"
   ]
  },
  {
   "cell_type": "markdown",
   "metadata": {
    "id": "-PRVRFl8ynDS"
   },
   "source": [
    "## 사용할 컬럼만 남기기"
   ]
  },
  {
   "cell_type": "code",
   "execution_count": null,
   "metadata": {
    "id": "Izm1ToHnynDS"
   },
   "outputs": [],
   "source": [
    "# 제목 뒤에 문서가 보이도록 컬럼의 순서를 조정합니다.\n",
    "# 사용할 컬럼만 인덱싱 합니다.\n",
    "# 다음의 순서가 되게 합니다. '번호', '분류', '제목', '내용', '내용번호'\n",
    "df_detail"
   ]
  },
  {
   "cell_type": "markdown",
   "metadata": {
    "id": "EwgVrIF1ynDT"
   },
   "source": [
    "## 파일로 저장하고 확인하기\n",
    "\n",
    "<img src=\"https://pandas.pydata.org/docs/_images/02_io_readwrite.svg\">"
   ]
  },
  {
   "cell_type": "code",
   "execution_count": null,
   "metadata": {
    "id": "n_HQfR2jynDT"
   },
   "outputs": [],
   "source": [
    "# 저장할 파일명을 \"seoul-120-sample.csv\" 로 설정해 줍니다.\n",
    "file_name = \"seoul-120-sample.csv\""
   ]
  },
  {
   "cell_type": "code",
   "execution_count": null,
   "metadata": {
    "id": "o0BZSVXkynDT"
   },
   "outputs": [],
   "source": [
    "# csv 파일로 저장합니다.\n"
   ]
  },
  {
   "cell_type": "code",
   "execution_count": null,
   "metadata": {
    "id": "I8N98oVvynDU",
    "outputId": "cc926511-d0ed-4516-88ef-c1ba2780cbdc"
   },
   "outputs": [],
   "source": [
    "# 저장이 잘 되었는지 csv 파일로 읽어옵니다.\n"
   ]
  },
  {
   "cell_type": "code",
   "execution_count": null,
   "metadata": {
    "id": "m8zC76UnynDU"
   },
   "outputs": [],
   "source": []
  },
  {
   "cell_type": "code",
   "execution_count": null,
   "metadata": {
    "id": "PKlcJsNaynDU"
   },
   "outputs": [],
   "source": []
  }
 ],
 "metadata": {
  "colab": {
   "name": "2. seoul-120-view-scrapping.ipynb",
   "provenance": []
  },
  "kernelspec": {
   "display_name": "Python 3",
   "language": "python",
   "name": "python3"
  },
  "language_info": {
   "codemirror_mode": {
    "name": "ipython",
    "version": 3
   },
   "file_extension": ".py",
   "mimetype": "text/x-python",
   "name": "python",
   "nbconvert_exporter": "python",
   "pygments_lexer": "ipython3",
   "version": "3.7.4"
  },
  "toc": {
   "base_numbering": 1,
   "nav_menu": {},
   "number_sections": true,
   "sideBar": true,
   "skip_h1_title": false,
   "title_cell": "Table of Contents",
   "title_sidebar": "Contents",
   "toc_cell": false,
   "toc_position": {},
   "toc_section_display": true,
   "toc_window_display": false
  },
  "varInspector": {
   "cols": {
    "lenName": 16,
    "lenType": 16,
    "lenVar": 40
   },
   "kernels_config": {
    "python": {
     "delete_cmd_postfix": "",
     "delete_cmd_prefix": "del ",
     "library": "var_list.py",
     "varRefreshCmd": "print(var_dic_list())"
    },
    "r": {
     "delete_cmd_postfix": ") ",
     "delete_cmd_prefix": "rm(",
     "library": "var_list.r",
     "varRefreshCmd": "cat(var_dic_list()) "
    }
   },
   "types_to_exclude": [
    "module",
    "function",
    "builtin_function_or_method",
    "instance",
    "_Feature"
   ],
   "window_display": false
  }
 },
 "nbformat": 4,
 "nbformat_minor": 1
}
