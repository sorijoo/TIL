{
 "cells": [
  {
   "cell_type": "markdown",
   "metadata": {},
   "source": [
    "## downcast\n",
    "* 메모리 부담 줄이기"
   ]
  },
  {
   "cell_type": "code",
   "execution_count": 1,
   "metadata": {},
   "outputs": [],
   "source": [
    "# pandas 를 불러옵니다.\n",
    "import pandas as pd"
   ]
  },
  {
   "cell_type": "code",
   "execution_count": 2,
   "metadata": {},
   "outputs": [],
   "source": [
    "# data/nhis_drug_sample_2020_3.csv 파일을 로드합니다. \n",
    "df =pd.read_csv(\"data/nhis_drug_sample_2020_3.csv\")"
   ]
  },
  {
   "cell_type": "code",
   "execution_count": 3,
   "metadata": {},
   "outputs": [
    {
     "name": "stdout",
     "output_type": "stream",
     "text": [
      "<class 'pandas.core.frame.DataFrame'>\n",
      "RangeIndex: 317677 entries, 0 to 317676\n",
      "Data columns (total 15 columns):\n",
      " #   Column       Non-Null Count   Dtype  \n",
      "---  ------       --------------   -----  \n",
      " 0   기준년도         317677 non-null  int64  \n",
      " 1   가입자 일련번호     317677 non-null  int64  \n",
      " 2   처방내역일련번호     317677 non-null  int64  \n",
      " 3   일련번호         317677 non-null  int64  \n",
      " 4   성별코드         317677 non-null  int64  \n",
      " 5   연령대코드(5세단위)  317677 non-null  int64  \n",
      " 6   시도코드         317677 non-null  int64  \n",
      " 7   요양개시일자       317677 non-null  object \n",
      " 8   약품일반성분명코드    317669 non-null  object \n",
      " 9   1회 투약량       317677 non-null  float64\n",
      " 10  1일투약량        317677 non-null  int64  \n",
      " 11  총투여일수        317677 non-null  int64  \n",
      " 12  단가           317677 non-null  float64\n",
      " 13  금액           317677 non-null  int64  \n",
      " 14  데이터 공개일자     317677 non-null  object \n",
      "dtypes: float64(2), int64(10), object(3)\n",
      "memory usage: 36.4+ MB\n"
     ]
    }
   ],
   "source": [
    "# info를 통해 데이터의 요약정보를 봅니다.\n",
    "df.info()"
   ]
  },
  {
   "cell_type": "code",
   "execution_count": 6,
   "metadata": {},
   "outputs": [
    {
     "data": {
      "text/plain": [
       "기준년도             int64\n",
       "가입자 일련번호         int64\n",
       "처방내역일련번호         int64\n",
       "일련번호             int64\n",
       "성별코드             int64\n",
       "연령대코드(5세단위)      int64\n",
       "시도코드             int64\n",
       "요양개시일자          object\n",
       "약품일반성분명코드       object\n",
       "1회 투약량         float64\n",
       "1일투약량            int64\n",
       "총투여일수            int64\n",
       "단가             float64\n",
       "금액               int64\n",
       "데이터 공개일자        object\n",
       "dtype: object"
      ]
     },
     "execution_count": 6,
     "metadata": {},
     "output_type": "execute_result"
    }
   ],
   "source": [
    "# dtypes 를 통해 데이터의 타입만 봅니다.\n",
    "df.dtypes"
   ]
  },
  {
   "cell_type": "markdown",
   "metadata": {},
   "source": [
    "|    | Data type   | Description                                                          |\n",
    "|---:|:------------|:---------------------------------------------------------------------|\n",
    "|  0 | bool        | Boolean (True or False) stored as a byte                             |\n",
    "|  1 | int         | Platform integer (normally either int32 or int64)                    |\n",
    "|  2 | int8        | Byte (-128 to 127)                                                   |\n",
    "|  3 | int16       | Integer (-32768 to 32767)                                            |\n",
    "|  4 | int32       | Integer (-2147483648 to 2147483647)                                  |\n",
    "|  5 | int64       | Integer (9223372036854775808 to 9223372036854775807)                 |\n",
    "|  6 | uint8       | Unsigned integer (0 to 255)                                          |\n",
    "|  7 | uint16      | Unsigned integer (0 to 65535)                                        |\n",
    "|  8 | uint32      | Unsigned integer (0 to 4294967295)                                   |\n",
    "|  9 | uint64      | Unsigned integer (0 to 18446744073709551615)                         |\n",
    "| 10 | float       | Shorthand for float64.                                               |\n",
    "| 11 | float16     | Half precision float: sign bit, 5 bits exponent, 10 bits mantissa    |\n",
    "| 12 | float32     | Single precision float: sign bit, 8 bits exponent, 23 bits mantissa  |\n",
    "| 13 | float64     | Double precision float: sign bit, 11 bits exponent, 52 bits mantissa |\n",
    "| 14 | complex     | Shorthand for complex128.                                            |\n",
    "| 15 | complex64   | Complex number, represented by two 32-bit floats                     |\n",
    "| 16 | complex128  | Complex number, represented by two 64-bit floats                     |"
   ]
  },
  {
   "cell_type": "code",
   "execution_count": 11,
   "metadata": {},
   "outputs": [],
   "source": [
    "# 반복문을 사용해 컬럼 단위로 순회하며 데이터의 용량을 줄입니다.\n",
    "# df[col].dtype.name 으로 데이터 타입명을 가져옵니다.\n",
    "# 각 컬럼의 데이터 타입 이름이 int, float 으로 시작하는지를 봅니다.\n",
    "# bool 일 때는 int8\n",
    "# int 일 때는 unsigned\n",
    "# float 일 때는 float 으로 downcast 합니다.\n",
    "# downcast 는 pd.to_numeric 을 사용합니다.\n",
    "\n",
    "for col in df.columns:\n",
    "    dtype_name = df[col].dtypes.name\n",
    "    if dtype_name.startswith(\"int\"):\n",
    "        df[col] = pd.to_numeric(df[col], downcast='unsigned')\n",
    "    elif dtype_name.startswith(\"float\"):\n",
    "        df[col] = pd.to_numeric(df[col], downcast='float')\n",
    "    elif dtype_name == \"bool\":\n",
    "        df[col] = df[col].astype('int8')\n",
    "   "
   ]
  },
  {
   "cell_type": "code",
   "execution_count": 12,
   "metadata": {},
   "outputs": [
    {
     "name": "stdout",
     "output_type": "stream",
     "text": [
      "<class 'pandas.core.frame.DataFrame'>\n",
      "RangeIndex: 317677 entries, 0 to 317676\n",
      "Data columns (total 15 columns):\n",
      " #   Column       Non-Null Count   Dtype  \n",
      "---  ------       --------------   -----  \n",
      " 0   기준년도         317677 non-null  uint16 \n",
      " 1   가입자 일련번호     317677 non-null  uint32 \n",
      " 2   처방내역일련번호     317677 non-null  uint32 \n",
      " 3   일련번호         317677 non-null  uint8  \n",
      " 4   성별코드         317677 non-null  uint8  \n",
      " 5   연령대코드(5세단위)  317677 non-null  uint8  \n",
      " 6   시도코드         317677 non-null  uint8  \n",
      " 7   요양개시일자       317677 non-null  object \n",
      " 8   약품일반성분명코드    317669 non-null  object \n",
      " 9   1회 투약량       317677 non-null  float32\n",
      " 10  1일투약량        317677 non-null  uint8  \n",
      " 11  총투여일수        317677 non-null  uint16 \n",
      " 12  단가           317677 non-null  float32\n",
      " 13  금액           317677 non-null  uint32 \n",
      " 14  데이터 공개일자     317677 non-null  object \n",
      "dtypes: float32(2), object(3), uint16(2), uint32(3), uint8(5)\n",
      "memory usage: 16.1+ MB\n"
     ]
    }
   ],
   "source": [
    "# 메모리 크기가 줄어든 것을 확인합니다.\n",
    "df.info()"
   ]
  },
  {
   "cell_type": "code",
   "execution_count": null,
   "metadata": {},
   "outputs": [],
   "source": []
  }
 ],
 "metadata": {
  "kernelspec": {
   "display_name": "Python 3",
   "language": "python",
   "name": "python3"
  },
  "language_info": {
   "codemirror_mode": {
    "name": "ipython",
    "version": 3
   },
   "file_extension": ".py",
   "mimetype": "text/x-python",
   "name": "python",
   "nbconvert_exporter": "python",
   "pygments_lexer": "ipython3",
   "version": "3.7.4"
  },
  "toc": {
   "base_numbering": 1,
   "nav_menu": {},
   "number_sections": true,
   "sideBar": true,
   "skip_h1_title": false,
   "title_cell": "Table of Contents",
   "title_sidebar": "Contents",
   "toc_cell": false,
   "toc_position": {},
   "toc_section_display": true,
   "toc_window_display": false
  },
  "varInspector": {
   "cols": {
    "lenName": 16,
    "lenType": 16,
    "lenVar": 40
   },
   "kernels_config": {
    "python": {
     "delete_cmd_postfix": "",
     "delete_cmd_prefix": "del ",
     "library": "var_list.py",
     "varRefreshCmd": "print(var_dic_list())"
    },
    "r": {
     "delete_cmd_postfix": ") ",
     "delete_cmd_prefix": "rm(",
     "library": "var_list.r",
     "varRefreshCmd": "cat(var_dic_list()) "
    }
   },
   "types_to_exclude": [
    "module",
    "function",
    "builtin_function_or_method",
    "instance",
    "_Feature"
   ],
   "window_display": false
  }
 },
 "nbformat": 4,
 "nbformat_minor": 5
}
